{
  "nbformat": 4,
  "nbformat_minor": 0,
  "metadata": {
    "colab": {
      "provenance": []
    },
    "kernelspec": {
      "name": "python3",
      "display_name": "Python 3"
    },
    "language_info": {
      "name": "python"
    }
  },
  "cells": [
    {
      "cell_type": "markdown",
      "source": [
        "AIM:-**To predict the mortgage backed securities prepayment risk using ml models**\n",
        "Mortgage backed securities:-\n",
        "Firstly mortgage means people take loan from banks and banks issue them loans on thier credit profile,investments and certain proofs and they give those docs when loan tenure is finished.So these security papers are collected in a set and are sold to invesment banks and they are locked.now the investors gets profit from the intrests they pay.so if a customer pre pays the ammount investor might lose some profit.so we have to predict whether a customer will prepay or not.\n"
      ],
      "metadata": {
        "id": "20IbxktkZnjl"
      }
    },
    {
      "cell_type": "markdown",
      "source": [
        "CreditScore:-\n",
        "FirstPaymentDate:-\n",
        "FirstTimeHomebuyer:-\n",
        "MaturityDate:-\n",
        "MSA(marketing service agremment)-5digit\n",
        "MIP-mortgage insurance percentage\n",
        "Units\n",
        "Occupancy\n",
        "OCLTV-**ratio of all secured loans on a property to the total value of property**\n",
        "DTI-**debit to income ratio**\n",
        "OrigUPB-orginal unpaid balance\n",
        "LTV\n",
        "OrigInterestRate\n",
        "Channel\n",
        "PPM-prepayment penalty mortgage\n",
        "ProductType\n",
        "PropertyState\n",
        "PropertyType\n",
        "PostalCode\n",
        "LoanSeqNum\n",
        "LoanPurpose\n",
        "OrigLoanTerm\n",
        "NumBorrowers\n",
        "SellerName\n",
        "ServicerName\n",
        "EverDelinquent\n",
        "MonthsDelinquent\n",
        "MonthsInRepayment"
      ],
      "metadata": {
        "id": "JA3Z2aRSZnrc"
      }
    },
    {
      "cell_type": "code",
      "source": [
        "import pandas as pd\n",
        "import numpy as np"
      ],
      "metadata": {
        "id": "uBkGJbXpf0j6"
      },
      "execution_count": 696,
      "outputs": []
    },
    {
      "cell_type": "code",
      "source": [
        "loan_export=pd.read_csv(\"/content/LoanExport.csv\")"
      ],
      "metadata": {
        "colab": {
          "base_uri": "https://localhost:8080/"
        },
        "id": "DRGvZoN0gbSG",
        "outputId": "baa14a3a-1333-4899-af85-bc49d622d32d"
      },
      "execution_count": 697,
      "outputs": [
        {
          "output_type": "stream",
          "name": "stderr",
          "text": [
            "/usr/local/lib/python3.8/dist-packages/IPython/core/interactiveshell.py:3326: DtypeWarning: Columns (18) have mixed types.Specify dtype option on import or set low_memory=False.\n",
            "  exec(code_obj, self.user_global_ns, self.user_ns)\n"
          ]
        }
      ]
    },
    {
      "cell_type": "code",
      "source": [
        "\n",
        "pd.set_option(\"display.max_columns\",None)"
      ],
      "metadata": {
        "id": "Z85cmvHzgjFO"
      },
      "execution_count": 698,
      "outputs": []
    },
    {
      "cell_type": "code",
      "source": [
        "loan_export.head(50)"
      ],
      "metadata": {
        "colab": {
          "base_uri": "https://localhost:8080/",
          "height": 1000
        },
        "id": "96kMCV4agzrw",
        "outputId": "bd235466-a368-4013-f4a2-6c3b5919b9bf"
      },
      "execution_count": 699,
      "outputs": [
        {
          "output_type": "execute_result",
          "data": {
            "text/plain": [
              "    CreditScore  FirstPaymentDate FirstTimeHomebuyer  MaturityDate    MSA  \\\n",
              "0             0            199902                  N        202901  16974   \n",
              "1             0            199902                  N        202901  19740   \n",
              "2             0            199902                  N        202901  29940   \n",
              "3             0            199902                  N        202901  31084   \n",
              "4             0            199902                  N        202901  35644   \n",
              "5             0            199902                  N        202901  X       \n",
              "6             0            199902                  N        202901  X       \n",
              "7             0            199902                  X        202901  36740   \n",
              "8             0            199902                  Y        202710  25540   \n",
              "9             0            199902                  Y        202901  48620   \n",
              "10            0            199903                  N        202902  12060   \n",
              "11            0            199903                  N        202902  12060   \n",
              "12            0            199903                  N        202902  12060   \n",
              "13            0            199903                  N        202902  12060   \n",
              "14            0            199903                  N        202902  12060   \n",
              "15            0            199903                  N        202902  12060   \n",
              "16            0            199903                  N        202902  12060   \n",
              "17            0            199903                  N        202902  12420   \n",
              "18            0            199903                  N        202902  13140   \n",
              "19            0            199903                  N        202902  13644   \n",
              "20            0            199903                  N        202902  15764   \n",
              "21            0            199903                  N        202902  16700   \n",
              "22            0            199903                  N        202902  16940   \n",
              "23            0            199903                  N        202902  16940   \n",
              "24            0            199903                  N        202902  16974   \n",
              "25            0            199903                  N        202902  16974   \n",
              "26            0            199903                  N        202902  16974   \n",
              "27            0            199903                  N        202902  16974   \n",
              "28            0            199903                  N        202902  16974   \n",
              "29            0            199903                  N        202902  16974   \n",
              "30            0            199903                  N        202902  16974   \n",
              "31            0            199903                  N        202902  16974   \n",
              "32            0            199903                  N        202902  17900   \n",
              "33            0            199903                  N        202902  19124   \n",
              "34            0            199903                  N        202902  19124   \n",
              "35            0            199903                  N        202902  19124   \n",
              "36            0            199903                  N        202902  20500   \n",
              "37            0            199903                  N        202902  20500   \n",
              "38            0            199903                  N        202902  20764   \n",
              "39            0            199903                  N        202902  20764   \n",
              "40            0            199903                  N        202902  20764   \n",
              "41            0            199903                  N        202902  21340   \n",
              "42            0            199903                  N        202902  22380   \n",
              "43            0            199903                  N        202902  22744   \n",
              "44            0            199903                  N        202902  22744   \n",
              "45            0            199903                  N        202902  23060   \n",
              "46            0            199903                  N        202902  23104   \n",
              "47            0            199903                  N        202902  24660   \n",
              "48            0            199903                  N        202902  24860   \n",
              "49            0            199903                  N        202902  24860   \n",
              "\n",
              "    MIP  Units Occupancy  OCLTV  DTI  OrigUPB  LTV  OrigInterestRate Channel  \\\n",
              "0    25      1         O     89   27   117000   89             6.750       T   \n",
              "1     0      1         O     73   17   109000   73             6.500       R   \n",
              "2     0      1         O     75   16    88000   75             6.875       T   \n",
              "3     0      1         O     76   14   160000   76             6.875       R   \n",
              "4     0      1         O     78   18   109000   78             7.125       R   \n",
              "5    25      1         O     89   40   207000   89             7.125       T   \n",
              "6    25      1         O     90   21   111000   90             6.875       T   \n",
              "7     0      1         O     72   20    97000   72             6.750       R   \n",
              "8    30      1         O     95   38    55000   95             7.000       R   \n",
              "9    30      1         O     95   27    35000   95             7.125       T   \n",
              "10    0      1         O     80   19   126000   80             6.500       T   \n",
              "11   12      1         O     77   18   200000   77             6.750       R   \n",
              "12   12      1         O     85   38    70000   85             6.750       T   \n",
              "13   25      1         O     90   19    93000   90             7.250       T   \n",
              "14   25      1         O     90   23    79000   90             6.625       T   \n",
              "15   25      1         O     90   45    54000   90             7.000       R   \n",
              "16   30      1         O     95   28    80000   95             7.750       T   \n",
              "17   25      1         O     90   27   231000   90             6.750       T   \n",
              "18   25      1         O     90   29   145000   90             6.500       T   \n",
              "19   25      1         O     90   15   187000   90             6.750       R   \n",
              "20   25      1         O     90   43   148000   90             7.000       T   \n",
              "21    0      1         O     80   29    79000   80             6.750       R   \n",
              "22   12      1         O     85   15    90000   85             6.625       T   \n",
              "23   30      1         O     93   25    65000   93             6.750       T   \n",
              "24    0      1         O     70   17    86000   70             6.750       R   \n",
              "25    0      1         O     74   16   122000   74             6.750       R   \n",
              "26    0      1         O     75   24   157000   75             7.200       R   \n",
              "27    0      1         O     79   43    55000   79             7.500       R   \n",
              "28   12      1         O     85   29    94000   85             6.750       T   \n",
              "29   25      1         O     89   28    63000   89             7.000       T   \n",
              "30   25      1         O     90   17    50000   90             7.000       T   \n",
              "31   30      1         O     95   45   109000   95             6.875       T   \n",
              "32   30      1         O     95   18   100000   95             6.625       R   \n",
              "33    0      1         O     75   26   191000   75             6.875       T   \n",
              "34    0      1         O     80   20   204000   80             6.750       T   \n",
              "35   30      1         O     95   40   117000   95             6.750       T   \n",
              "36    0      1         O     80   35   222000   80             6.625       R   \n",
              "37   25      1         O     90   29   189000   90             6.625       R   \n",
              "38    0      1         I     85   46    57000   85             7.625       R   \n",
              "39    0      1         O     80   24   202000   80             6.875       R   \n",
              "40   30      1         O     95   21   137000   95             7.250       R   \n",
              "41   30      1         O     95   18    56000   95             7.500       T   \n",
              "42    0      1         S     80   29   140000   80             6.625       T   \n",
              "43    0      1         O     75   39    18000   75             7.125       R   \n",
              "44   30      1         O     95   35   109000   95             7.875       R   \n",
              "45   30      1         O     95   33    76000   95             7.000       R   \n",
              "46   30      1         O     95   25    77000   95             6.750       R   \n",
              "47   30      1         O     95   38   109000   95             7.250       T   \n",
              "48    0      1         O     70   16   100000   70             6.500       T   \n",
              "49    0      1         O     72   24   151000   72             6.750       T   \n",
              "\n",
              "   PPM ProductType PropertyState PropertyType PostalCode    LoanSeqNum  \\\n",
              "0    N       FRM              IL           SF      60400  F199Q1268030   \n",
              "1    N       FRM              CO           SF      80200  F199Q1015092   \n",
              "2    N       FRM              KS           SF      66000  F199Q1266886   \n",
              "3    N       FRM              CA           SF      90700  F199Q1178167   \n",
              "4    N       FRM              NJ           SF       7600  F199Q1178517   \n",
              "5    N       FRM              CO           SF      80400  F199Q1224802   \n",
              "6    N       FRM              WI           SF      53100  F199Q1291436   \n",
              "7    N       FRM              FL           SF      32800  F199Q1001824   \n",
              "8    X       FRM              CT           SF       6400  F199Q1079744   \n",
              "9    N       FRM              KS           SF      67000  F199Q1196318   \n",
              "10   N       FRM              GA           PU      30100  F199Q1309144   \n",
              "11   N       FRM              GA           SF      30000  F199Q1363208   \n",
              "12   N       FRM              GA           SF      30100  F199Q1388109   \n",
              "13   N       FRM              GA           SF      30600  F199Q1388083   \n",
              "14   N       FRM              GA           SF      30200  F199Q1312860   \n",
              "15   X       FRM              GA           SF      30300  F199Q1271788   \n",
              "16   N       FRM              GA           SF      30000  F199Q1311724   \n",
              "17   N       FRM              TX           SF      78700  F199Q1330011   \n",
              "18   N       FRM              TX           SF      77700  F199Q1321742   \n",
              "19   N       FRM              MD           CO      20800  F199Q1245176   \n",
              "20   N       FRM              MA           SF       1800  F199Q1249125   \n",
              "21   N       FRM              SC           SF      29400  F199Q1335693   \n",
              "22   N       FRM              WY           SF      82000  F199Q1294963   \n",
              "23   N       FRM              WY           SF      82000  F199Q1224756   \n",
              "24   N       FRM              IL           CO      60000  F199Q1363216   \n",
              "25   N       FRM              IL           CO      60200  F199Q1310419   \n",
              "26   N       FRM              IL           SF      60400  F199Q1005070   \n",
              "27   N       FRM              IL           SF      60600  F199Q1015976   \n",
              "28   N       FRM              IL           SF      60100  F199Q1298077   \n",
              "29   N       FRM              IL           SF      60600  F199Q1304113   \n",
              "30   N       FRM              IL           CO      60400  F199Q1038536   \n",
              "31   N       FRM              IL           SF      60600  F199Q1117634   \n",
              "32   N       FRM              SC           SF      29000  F199Q1237803   \n",
              "33   N       FRM              TX           CO      75200  F199Q1297923   \n",
              "34   N       FRM              TX           SF      75200  F199Q1297812   \n",
              "35   Y       FRM              TX           SF      75200  F199Q1254415   \n",
              "36   N       FRM              NC           PU      27500  F199Q1298962   \n",
              "37   N       FRM              NC           SF      27500  F199Q1238547   \n",
              "38   X       FRM              NJ           SF       7700  F199Q1219516   \n",
              "39   N       FRM              NJ           SF       7700  F199Q1398787   \n",
              "40   N       FRM              NJ           CO       7700  F199Q1005696   \n",
              "41   N       FRM              TX           SF      79900  F199Q1316076   \n",
              "42   Y       FRM              AZ           SF      86000  F199Q1253924   \n",
              "43   N       FRM              FL           CO      33300  F199Q1031556   \n",
              "44   N       FRM              FL           SF      33000  F199Q1005620   \n",
              "45   N       FRM              IN           PU      46800  F199Q1002591   \n",
              "46   N       FRM              TX           SF      76100  F199Q1237614   \n",
              "47   N       FRM              NC           SF      27400  F199Q1275011   \n",
              "48   N       FRM              SC           SF      29600  F199Q1384549   \n",
              "49   N       FRM              SC           PU      29600  F199Q1384545   \n",
              "\n",
              "   LoanPurpose  OrigLoanTerm NumBorrowers SellerName          ServicerName  \\\n",
              "0            P           360            2         FL  WASHINGTONMUTUALBANK   \n",
              "1            N           360            1         FT  CHASEHOMEFINANCELLC    \n",
              "2            N           360            2         FL  WASHINGTONMUTUALBANK   \n",
              "3            N           360            2         GM  GMACMTGECORP           \n",
              "4            N           360            2         GM  GMACMTGECORP           \n",
              "5            N           360            2         Ot  Other servicers        \n",
              "6            P           360            1         RE  Other servicers        \n",
              "7            N           360            1         NO   WELLSFARGOBANKNA      \n",
              "8            P           345            1         Ot  Other servicers        \n",
              "9            P           360            1         Ot   WELLSFARGOBANKNA      \n",
              "10           P           360            2         Ot  Other servicers        \n",
              "11           C           360            1         ST   ABNAMROMTGEGROUPINC   \n",
              "12           P           360            1         Ot   BANKOFAMERICANA       \n",
              "13           N           360            2         Ot   BANKOFAMERICANA       \n",
              "14           P           360            2         ST  CHASEMANHATTANMTGECO   \n",
              "15           N           360            1         Ot   BANKOFAMERICANA       \n",
              "16           P           360            1         CR  CHASEMANHATTANMTGECO   \n",
              "17           P           360            2         Ot   HOMESIDELENDINGINC    \n",
              "18           P           360            2         CH  CHASEMTGECO            \n",
              "19           P           360            1         FI  WELLSFARGOHOMEMORTGA   \n",
              "20           P           360            2         HO   HOMESIDELENDINGINC    \n",
              "21           P           360            1         Ot   HOMESIDELENDINGINC    \n",
              "22           P           360            2         PR  PRINCIPALRESIDENTIAL   \n",
              "23           P           360            1         Ot  Other servicers        \n",
              "24           N           360            1         ST   CITIMORTGAGEINC       \n",
              "25           C           360            1         ST   ABNAMROMTGEGROUPINC   \n",
              "26           N           360            1         Ot  Other servicers        \n",
              "27           N           360            1         FT   JPMORGANCHASEBANKNA   \n",
              "28           P           360            1         ST   ABNAMROMTGEGROUPINC   \n",
              "29           P           360            2         CR  CHASEHOMEFINANCELLC    \n",
              "30           P           360            1         NO   WELLSFARGOBANKNA      \n",
              "31           P           360            1         HO   HOMESIDELENDINGINC    \n",
              "32           P           360            1        NaN   BAMORTGAGELLC         \n",
              "33           P           360            2         CH  CHASEMTGECO            \n",
              "34           P           360            1         CH  CHASEMTGECO            \n",
              "35           P           360            1         Ot   CITIMORTGAGEINC       \n",
              "36           P           360            1         PR  PRINCIPALRESIDENTIAL   \n",
              "37           P           360            1        NaN   BAMORTGAGELLC         \n",
              "38           P           360            1        NaN  NATLCITYMTGECO         \n",
              "39           P           360            2         Ot  Other servicers        \n",
              "40           P           360            1        NaN  NATLCITYMTGECO         \n",
              "41           P           360            1         ST   CITIMORTGAGEINC       \n",
              "42           P           360            1         Ot  Other servicers        \n",
              "43           P           360            1         PN   JPMORGANCHASEBANKNA   \n",
              "44           P           360            2        NaN  NATLCITYMTGECO         \n",
              "45           P           360            1         NO  WELLSFARGOHOMEMORTGA   \n",
              "46           P           360            2        NaN   BANKOFAMERICANA       \n",
              "47           P           360            1         Ot   FTMTGESERVICESINC     \n",
              "48           C           360            2         Ot  Other servicers        \n",
              "49           P           360            2         Ot  Other servicers        \n",
              "\n",
              "    EverDelinquent  MonthsDelinquent  MonthsInRepayment  \n",
              "0                0                 0                 52  \n",
              "1                0                 0                144  \n",
              "2                0                 0                 67  \n",
              "3                0                 0                 35  \n",
              "4                0                 0                 54  \n",
              "5                0                 0                 42  \n",
              "6                0                 0                 44  \n",
              "7                1                 3                145  \n",
              "8                0                 0                 64  \n",
              "9                1               104                212  \n",
              "10               0                 0                 37  \n",
              "11               0                 0                 47  \n",
              "12               0                 0                 53  \n",
              "13               0                 0                 55  \n",
              "14               0                 0                 66  \n",
              "15               1                 5                 55  \n",
              "16               1                23                 55  \n",
              "17               0                 0                 26  \n",
              "18               0                 0                 38  \n",
              "19               0                 0                 36  \n",
              "20               0                 0                 39  \n",
              "21               0                 0                 40  \n",
              "22               0                 0                 11  \n",
              "23               0                 0                 55  \n",
              "24               0                 0                176  \n",
              "25               0                 0                 46  \n",
              "26               0                 0                197  \n",
              "27               1                32                210  \n",
              "28               0                 0                 56  \n",
              "29               0                 0                118  \n",
              "30               0                 0                 63  \n",
              "31               0                 0                 38  \n",
              "32               0                 0                 46  \n",
              "33               0                 0                 24  \n",
              "34               0                 0                 28  \n",
              "35               1                 1                 91  \n",
              "36               0                 0                 54  \n",
              "37               1                 2                 50  \n",
              "38               0                 0                 24  \n",
              "39               0                 0                 22  \n",
              "40               0                 0                 28  \n",
              "41               0                 0                211  \n",
              "42               1                 1                212  \n",
              "43               1                 4                199  \n",
              "44               1                 2                 39  \n",
              "45               0                 0                 55  \n",
              "46               0                 0                 56  \n",
              "47               0                 0                 23  \n",
              "48               0                 0                 30  \n",
              "49               0                 0                 35  "
            ],
            "text/html": [
              "\n",
              "  <div id=\"df-9bb3b891-1fa7-4071-b512-6d835e7d5ab7\">\n",
              "    <div class=\"colab-df-container\">\n",
              "      <div>\n",
              "<style scoped>\n",
              "    .dataframe tbody tr th:only-of-type {\n",
              "        vertical-align: middle;\n",
              "    }\n",
              "\n",
              "    .dataframe tbody tr th {\n",
              "        vertical-align: top;\n",
              "    }\n",
              "\n",
              "    .dataframe thead th {\n",
              "        text-align: right;\n",
              "    }\n",
              "</style>\n",
              "<table border=\"1\" class=\"dataframe\">\n",
              "  <thead>\n",
              "    <tr style=\"text-align: right;\">\n",
              "      <th></th>\n",
              "      <th>CreditScore</th>\n",
              "      <th>FirstPaymentDate</th>\n",
              "      <th>FirstTimeHomebuyer</th>\n",
              "      <th>MaturityDate</th>\n",
              "      <th>MSA</th>\n",
              "      <th>MIP</th>\n",
              "      <th>Units</th>\n",
              "      <th>Occupancy</th>\n",
              "      <th>OCLTV</th>\n",
              "      <th>DTI</th>\n",
              "      <th>OrigUPB</th>\n",
              "      <th>LTV</th>\n",
              "      <th>OrigInterestRate</th>\n",
              "      <th>Channel</th>\n",
              "      <th>PPM</th>\n",
              "      <th>ProductType</th>\n",
              "      <th>PropertyState</th>\n",
              "      <th>PropertyType</th>\n",
              "      <th>PostalCode</th>\n",
              "      <th>LoanSeqNum</th>\n",
              "      <th>LoanPurpose</th>\n",
              "      <th>OrigLoanTerm</th>\n",
              "      <th>NumBorrowers</th>\n",
              "      <th>SellerName</th>\n",
              "      <th>ServicerName</th>\n",
              "      <th>EverDelinquent</th>\n",
              "      <th>MonthsDelinquent</th>\n",
              "      <th>MonthsInRepayment</th>\n",
              "    </tr>\n",
              "  </thead>\n",
              "  <tbody>\n",
              "    <tr>\n",
              "      <th>0</th>\n",
              "      <td>0</td>\n",
              "      <td>199902</td>\n",
              "      <td>N</td>\n",
              "      <td>202901</td>\n",
              "      <td>16974</td>\n",
              "      <td>25</td>\n",
              "      <td>1</td>\n",
              "      <td>O</td>\n",
              "      <td>89</td>\n",
              "      <td>27</td>\n",
              "      <td>117000</td>\n",
              "      <td>89</td>\n",
              "      <td>6.750</td>\n",
              "      <td>T</td>\n",
              "      <td>N</td>\n",
              "      <td>FRM</td>\n",
              "      <td>IL</td>\n",
              "      <td>SF</td>\n",
              "      <td>60400</td>\n",
              "      <td>F199Q1268030</td>\n",
              "      <td>P</td>\n",
              "      <td>360</td>\n",
              "      <td>2</td>\n",
              "      <td>FL</td>\n",
              "      <td>WASHINGTONMUTUALBANK</td>\n",
              "      <td>0</td>\n",
              "      <td>0</td>\n",
              "      <td>52</td>\n",
              "    </tr>\n",
              "    <tr>\n",
              "      <th>1</th>\n",
              "      <td>0</td>\n",
              "      <td>199902</td>\n",
              "      <td>N</td>\n",
              "      <td>202901</td>\n",
              "      <td>19740</td>\n",
              "      <td>0</td>\n",
              "      <td>1</td>\n",
              "      <td>O</td>\n",
              "      <td>73</td>\n",
              "      <td>17</td>\n",
              "      <td>109000</td>\n",
              "      <td>73</td>\n",
              "      <td>6.500</td>\n",
              "      <td>R</td>\n",
              "      <td>N</td>\n",
              "      <td>FRM</td>\n",
              "      <td>CO</td>\n",
              "      <td>SF</td>\n",
              "      <td>80200</td>\n",
              "      <td>F199Q1015092</td>\n",
              "      <td>N</td>\n",
              "      <td>360</td>\n",
              "      <td>1</td>\n",
              "      <td>FT</td>\n",
              "      <td>CHASEHOMEFINANCELLC</td>\n",
              "      <td>0</td>\n",
              "      <td>0</td>\n",
              "      <td>144</td>\n",
              "    </tr>\n",
              "    <tr>\n",
              "      <th>2</th>\n",
              "      <td>0</td>\n",
              "      <td>199902</td>\n",
              "      <td>N</td>\n",
              "      <td>202901</td>\n",
              "      <td>29940</td>\n",
              "      <td>0</td>\n",
              "      <td>1</td>\n",
              "      <td>O</td>\n",
              "      <td>75</td>\n",
              "      <td>16</td>\n",
              "      <td>88000</td>\n",
              "      <td>75</td>\n",
              "      <td>6.875</td>\n",
              "      <td>T</td>\n",
              "      <td>N</td>\n",
              "      <td>FRM</td>\n",
              "      <td>KS</td>\n",
              "      <td>SF</td>\n",
              "      <td>66000</td>\n",
              "      <td>F199Q1266886</td>\n",
              "      <td>N</td>\n",
              "      <td>360</td>\n",
              "      <td>2</td>\n",
              "      <td>FL</td>\n",
              "      <td>WASHINGTONMUTUALBANK</td>\n",
              "      <td>0</td>\n",
              "      <td>0</td>\n",
              "      <td>67</td>\n",
              "    </tr>\n",
              "    <tr>\n",
              "      <th>3</th>\n",
              "      <td>0</td>\n",
              "      <td>199902</td>\n",
              "      <td>N</td>\n",
              "      <td>202901</td>\n",
              "      <td>31084</td>\n",
              "      <td>0</td>\n",
              "      <td>1</td>\n",
              "      <td>O</td>\n",
              "      <td>76</td>\n",
              "      <td>14</td>\n",
              "      <td>160000</td>\n",
              "      <td>76</td>\n",
              "      <td>6.875</td>\n",
              "      <td>R</td>\n",
              "      <td>N</td>\n",
              "      <td>FRM</td>\n",
              "      <td>CA</td>\n",
              "      <td>SF</td>\n",
              "      <td>90700</td>\n",
              "      <td>F199Q1178167</td>\n",
              "      <td>N</td>\n",
              "      <td>360</td>\n",
              "      <td>2</td>\n",
              "      <td>GM</td>\n",
              "      <td>GMACMTGECORP</td>\n",
              "      <td>0</td>\n",
              "      <td>0</td>\n",
              "      <td>35</td>\n",
              "    </tr>\n",
              "    <tr>\n",
              "      <th>4</th>\n",
              "      <td>0</td>\n",
              "      <td>199902</td>\n",
              "      <td>N</td>\n",
              "      <td>202901</td>\n",
              "      <td>35644</td>\n",
              "      <td>0</td>\n",
              "      <td>1</td>\n",
              "      <td>O</td>\n",
              "      <td>78</td>\n",
              "      <td>18</td>\n",
              "      <td>109000</td>\n",
              "      <td>78</td>\n",
              "      <td>7.125</td>\n",
              "      <td>R</td>\n",
              "      <td>N</td>\n",
              "      <td>FRM</td>\n",
              "      <td>NJ</td>\n",
              "      <td>SF</td>\n",
              "      <td>7600</td>\n",
              "      <td>F199Q1178517</td>\n",
              "      <td>N</td>\n",
              "      <td>360</td>\n",
              "      <td>2</td>\n",
              "      <td>GM</td>\n",
              "      <td>GMACMTGECORP</td>\n",
              "      <td>0</td>\n",
              "      <td>0</td>\n",
              "      <td>54</td>\n",
              "    </tr>\n",
              "    <tr>\n",
              "      <th>5</th>\n",
              "      <td>0</td>\n",
              "      <td>199902</td>\n",
              "      <td>N</td>\n",
              "      <td>202901</td>\n",
              "      <td>X</td>\n",
              "      <td>25</td>\n",
              "      <td>1</td>\n",
              "      <td>O</td>\n",
              "      <td>89</td>\n",
              "      <td>40</td>\n",
              "      <td>207000</td>\n",
              "      <td>89</td>\n",
              "      <td>7.125</td>\n",
              "      <td>T</td>\n",
              "      <td>N</td>\n",
              "      <td>FRM</td>\n",
              "      <td>CO</td>\n",
              "      <td>SF</td>\n",
              "      <td>80400</td>\n",
              "      <td>F199Q1224802</td>\n",
              "      <td>N</td>\n",
              "      <td>360</td>\n",
              "      <td>2</td>\n",
              "      <td>Ot</td>\n",
              "      <td>Other servicers</td>\n",
              "      <td>0</td>\n",
              "      <td>0</td>\n",
              "      <td>42</td>\n",
              "    </tr>\n",
              "    <tr>\n",
              "      <th>6</th>\n",
              "      <td>0</td>\n",
              "      <td>199902</td>\n",
              "      <td>N</td>\n",
              "      <td>202901</td>\n",
              "      <td>X</td>\n",
              "      <td>25</td>\n",
              "      <td>1</td>\n",
              "      <td>O</td>\n",
              "      <td>90</td>\n",
              "      <td>21</td>\n",
              "      <td>111000</td>\n",
              "      <td>90</td>\n",
              "      <td>6.875</td>\n",
              "      <td>T</td>\n",
              "      <td>N</td>\n",
              "      <td>FRM</td>\n",
              "      <td>WI</td>\n",
              "      <td>SF</td>\n",
              "      <td>53100</td>\n",
              "      <td>F199Q1291436</td>\n",
              "      <td>P</td>\n",
              "      <td>360</td>\n",
              "      <td>1</td>\n",
              "      <td>RE</td>\n",
              "      <td>Other servicers</td>\n",
              "      <td>0</td>\n",
              "      <td>0</td>\n",
              "      <td>44</td>\n",
              "    </tr>\n",
              "    <tr>\n",
              "      <th>7</th>\n",
              "      <td>0</td>\n",
              "      <td>199902</td>\n",
              "      <td>X</td>\n",
              "      <td>202901</td>\n",
              "      <td>36740</td>\n",
              "      <td>0</td>\n",
              "      <td>1</td>\n",
              "      <td>O</td>\n",
              "      <td>72</td>\n",
              "      <td>20</td>\n",
              "      <td>97000</td>\n",
              "      <td>72</td>\n",
              "      <td>6.750</td>\n",
              "      <td>R</td>\n",
              "      <td>N</td>\n",
              "      <td>FRM</td>\n",
              "      <td>FL</td>\n",
              "      <td>SF</td>\n",
              "      <td>32800</td>\n",
              "      <td>F199Q1001824</td>\n",
              "      <td>N</td>\n",
              "      <td>360</td>\n",
              "      <td>1</td>\n",
              "      <td>NO</td>\n",
              "      <td>WELLSFARGOBANKNA</td>\n",
              "      <td>1</td>\n",
              "      <td>3</td>\n",
              "      <td>145</td>\n",
              "    </tr>\n",
              "    <tr>\n",
              "      <th>8</th>\n",
              "      <td>0</td>\n",
              "      <td>199902</td>\n",
              "      <td>Y</td>\n",
              "      <td>202710</td>\n",
              "      <td>25540</td>\n",
              "      <td>30</td>\n",
              "      <td>1</td>\n",
              "      <td>O</td>\n",
              "      <td>95</td>\n",
              "      <td>38</td>\n",
              "      <td>55000</td>\n",
              "      <td>95</td>\n",
              "      <td>7.000</td>\n",
              "      <td>R</td>\n",
              "      <td>X</td>\n",
              "      <td>FRM</td>\n",
              "      <td>CT</td>\n",
              "      <td>SF</td>\n",
              "      <td>6400</td>\n",
              "      <td>F199Q1079744</td>\n",
              "      <td>P</td>\n",
              "      <td>345</td>\n",
              "      <td>1</td>\n",
              "      <td>Ot</td>\n",
              "      <td>Other servicers</td>\n",
              "      <td>0</td>\n",
              "      <td>0</td>\n",
              "      <td>64</td>\n",
              "    </tr>\n",
              "    <tr>\n",
              "      <th>9</th>\n",
              "      <td>0</td>\n",
              "      <td>199902</td>\n",
              "      <td>Y</td>\n",
              "      <td>202901</td>\n",
              "      <td>48620</td>\n",
              "      <td>30</td>\n",
              "      <td>1</td>\n",
              "      <td>O</td>\n",
              "      <td>95</td>\n",
              "      <td>27</td>\n",
              "      <td>35000</td>\n",
              "      <td>95</td>\n",
              "      <td>7.125</td>\n",
              "      <td>T</td>\n",
              "      <td>N</td>\n",
              "      <td>FRM</td>\n",
              "      <td>KS</td>\n",
              "      <td>SF</td>\n",
              "      <td>67000</td>\n",
              "      <td>F199Q1196318</td>\n",
              "      <td>P</td>\n",
              "      <td>360</td>\n",
              "      <td>1</td>\n",
              "      <td>Ot</td>\n",
              "      <td>WELLSFARGOBANKNA</td>\n",
              "      <td>1</td>\n",
              "      <td>104</td>\n",
              "      <td>212</td>\n",
              "    </tr>\n",
              "    <tr>\n",
              "      <th>10</th>\n",
              "      <td>0</td>\n",
              "      <td>199903</td>\n",
              "      <td>N</td>\n",
              "      <td>202902</td>\n",
              "      <td>12060</td>\n",
              "      <td>0</td>\n",
              "      <td>1</td>\n",
              "      <td>O</td>\n",
              "      <td>80</td>\n",
              "      <td>19</td>\n",
              "      <td>126000</td>\n",
              "      <td>80</td>\n",
              "      <td>6.500</td>\n",
              "      <td>T</td>\n",
              "      <td>N</td>\n",
              "      <td>FRM</td>\n",
              "      <td>GA</td>\n",
              "      <td>PU</td>\n",
              "      <td>30100</td>\n",
              "      <td>F199Q1309144</td>\n",
              "      <td>P</td>\n",
              "      <td>360</td>\n",
              "      <td>2</td>\n",
              "      <td>Ot</td>\n",
              "      <td>Other servicers</td>\n",
              "      <td>0</td>\n",
              "      <td>0</td>\n",
              "      <td>37</td>\n",
              "    </tr>\n",
              "    <tr>\n",
              "      <th>11</th>\n",
              "      <td>0</td>\n",
              "      <td>199903</td>\n",
              "      <td>N</td>\n",
              "      <td>202902</td>\n",
              "      <td>12060</td>\n",
              "      <td>12</td>\n",
              "      <td>1</td>\n",
              "      <td>O</td>\n",
              "      <td>77</td>\n",
              "      <td>18</td>\n",
              "      <td>200000</td>\n",
              "      <td>77</td>\n",
              "      <td>6.750</td>\n",
              "      <td>R</td>\n",
              "      <td>N</td>\n",
              "      <td>FRM</td>\n",
              "      <td>GA</td>\n",
              "      <td>SF</td>\n",
              "      <td>30000</td>\n",
              "      <td>F199Q1363208</td>\n",
              "      <td>C</td>\n",
              "      <td>360</td>\n",
              "      <td>1</td>\n",
              "      <td>ST</td>\n",
              "      <td>ABNAMROMTGEGROUPINC</td>\n",
              "      <td>0</td>\n",
              "      <td>0</td>\n",
              "      <td>47</td>\n",
              "    </tr>\n",
              "    <tr>\n",
              "      <th>12</th>\n",
              "      <td>0</td>\n",
              "      <td>199903</td>\n",
              "      <td>N</td>\n",
              "      <td>202902</td>\n",
              "      <td>12060</td>\n",
              "      <td>12</td>\n",
              "      <td>1</td>\n",
              "      <td>O</td>\n",
              "      <td>85</td>\n",
              "      <td>38</td>\n",
              "      <td>70000</td>\n",
              "      <td>85</td>\n",
              "      <td>6.750</td>\n",
              "      <td>T</td>\n",
              "      <td>N</td>\n",
              "      <td>FRM</td>\n",
              "      <td>GA</td>\n",
              "      <td>SF</td>\n",
              "      <td>30100</td>\n",
              "      <td>F199Q1388109</td>\n",
              "      <td>P</td>\n",
              "      <td>360</td>\n",
              "      <td>1</td>\n",
              "      <td>Ot</td>\n",
              "      <td>BANKOFAMERICANA</td>\n",
              "      <td>0</td>\n",
              "      <td>0</td>\n",
              "      <td>53</td>\n",
              "    </tr>\n",
              "    <tr>\n",
              "      <th>13</th>\n",
              "      <td>0</td>\n",
              "      <td>199903</td>\n",
              "      <td>N</td>\n",
              "      <td>202902</td>\n",
              "      <td>12060</td>\n",
              "      <td>25</td>\n",
              "      <td>1</td>\n",
              "      <td>O</td>\n",
              "      <td>90</td>\n",
              "      <td>19</td>\n",
              "      <td>93000</td>\n",
              "      <td>90</td>\n",
              "      <td>7.250</td>\n",
              "      <td>T</td>\n",
              "      <td>N</td>\n",
              "      <td>FRM</td>\n",
              "      <td>GA</td>\n",
              "      <td>SF</td>\n",
              "      <td>30600</td>\n",
              "      <td>F199Q1388083</td>\n",
              "      <td>N</td>\n",
              "      <td>360</td>\n",
              "      <td>2</td>\n",
              "      <td>Ot</td>\n",
              "      <td>BANKOFAMERICANA</td>\n",
              "      <td>0</td>\n",
              "      <td>0</td>\n",
              "      <td>55</td>\n",
              "    </tr>\n",
              "    <tr>\n",
              "      <th>14</th>\n",
              "      <td>0</td>\n",
              "      <td>199903</td>\n",
              "      <td>N</td>\n",
              "      <td>202902</td>\n",
              "      <td>12060</td>\n",
              "      <td>25</td>\n",
              "      <td>1</td>\n",
              "      <td>O</td>\n",
              "      <td>90</td>\n",
              "      <td>23</td>\n",
              "      <td>79000</td>\n",
              "      <td>90</td>\n",
              "      <td>6.625</td>\n",
              "      <td>T</td>\n",
              "      <td>N</td>\n",
              "      <td>FRM</td>\n",
              "      <td>GA</td>\n",
              "      <td>SF</td>\n",
              "      <td>30200</td>\n",
              "      <td>F199Q1312860</td>\n",
              "      <td>P</td>\n",
              "      <td>360</td>\n",
              "      <td>2</td>\n",
              "      <td>ST</td>\n",
              "      <td>CHASEMANHATTANMTGECO</td>\n",
              "      <td>0</td>\n",
              "      <td>0</td>\n",
              "      <td>66</td>\n",
              "    </tr>\n",
              "    <tr>\n",
              "      <th>15</th>\n",
              "      <td>0</td>\n",
              "      <td>199903</td>\n",
              "      <td>N</td>\n",
              "      <td>202902</td>\n",
              "      <td>12060</td>\n",
              "      <td>25</td>\n",
              "      <td>1</td>\n",
              "      <td>O</td>\n",
              "      <td>90</td>\n",
              "      <td>45</td>\n",
              "      <td>54000</td>\n",
              "      <td>90</td>\n",
              "      <td>7.000</td>\n",
              "      <td>R</td>\n",
              "      <td>X</td>\n",
              "      <td>FRM</td>\n",
              "      <td>GA</td>\n",
              "      <td>SF</td>\n",
              "      <td>30300</td>\n",
              "      <td>F199Q1271788</td>\n",
              "      <td>N</td>\n",
              "      <td>360</td>\n",
              "      <td>1</td>\n",
              "      <td>Ot</td>\n",
              "      <td>BANKOFAMERICANA</td>\n",
              "      <td>1</td>\n",
              "      <td>5</td>\n",
              "      <td>55</td>\n",
              "    </tr>\n",
              "    <tr>\n",
              "      <th>16</th>\n",
              "      <td>0</td>\n",
              "      <td>199903</td>\n",
              "      <td>N</td>\n",
              "      <td>202902</td>\n",
              "      <td>12060</td>\n",
              "      <td>30</td>\n",
              "      <td>1</td>\n",
              "      <td>O</td>\n",
              "      <td>95</td>\n",
              "      <td>28</td>\n",
              "      <td>80000</td>\n",
              "      <td>95</td>\n",
              "      <td>7.750</td>\n",
              "      <td>T</td>\n",
              "      <td>N</td>\n",
              "      <td>FRM</td>\n",
              "      <td>GA</td>\n",
              "      <td>SF</td>\n",
              "      <td>30000</td>\n",
              "      <td>F199Q1311724</td>\n",
              "      <td>P</td>\n",
              "      <td>360</td>\n",
              "      <td>1</td>\n",
              "      <td>CR</td>\n",
              "      <td>CHASEMANHATTANMTGECO</td>\n",
              "      <td>1</td>\n",
              "      <td>23</td>\n",
              "      <td>55</td>\n",
              "    </tr>\n",
              "    <tr>\n",
              "      <th>17</th>\n",
              "      <td>0</td>\n",
              "      <td>199903</td>\n",
              "      <td>N</td>\n",
              "      <td>202902</td>\n",
              "      <td>12420</td>\n",
              "      <td>25</td>\n",
              "      <td>1</td>\n",
              "      <td>O</td>\n",
              "      <td>90</td>\n",
              "      <td>27</td>\n",
              "      <td>231000</td>\n",
              "      <td>90</td>\n",
              "      <td>6.750</td>\n",
              "      <td>T</td>\n",
              "      <td>N</td>\n",
              "      <td>FRM</td>\n",
              "      <td>TX</td>\n",
              "      <td>SF</td>\n",
              "      <td>78700</td>\n",
              "      <td>F199Q1330011</td>\n",
              "      <td>P</td>\n",
              "      <td>360</td>\n",
              "      <td>2</td>\n",
              "      <td>Ot</td>\n",
              "      <td>HOMESIDELENDINGINC</td>\n",
              "      <td>0</td>\n",
              "      <td>0</td>\n",
              "      <td>26</td>\n",
              "    </tr>\n",
              "    <tr>\n",
              "      <th>18</th>\n",
              "      <td>0</td>\n",
              "      <td>199903</td>\n",
              "      <td>N</td>\n",
              "      <td>202902</td>\n",
              "      <td>13140</td>\n",
              "      <td>25</td>\n",
              "      <td>1</td>\n",
              "      <td>O</td>\n",
              "      <td>90</td>\n",
              "      <td>29</td>\n",
              "      <td>145000</td>\n",
              "      <td>90</td>\n",
              "      <td>6.500</td>\n",
              "      <td>T</td>\n",
              "      <td>N</td>\n",
              "      <td>FRM</td>\n",
              "      <td>TX</td>\n",
              "      <td>SF</td>\n",
              "      <td>77700</td>\n",
              "      <td>F199Q1321742</td>\n",
              "      <td>P</td>\n",
              "      <td>360</td>\n",
              "      <td>2</td>\n",
              "      <td>CH</td>\n",
              "      <td>CHASEMTGECO</td>\n",
              "      <td>0</td>\n",
              "      <td>0</td>\n",
              "      <td>38</td>\n",
              "    </tr>\n",
              "    <tr>\n",
              "      <th>19</th>\n",
              "      <td>0</td>\n",
              "      <td>199903</td>\n",
              "      <td>N</td>\n",
              "      <td>202902</td>\n",
              "      <td>13644</td>\n",
              "      <td>25</td>\n",
              "      <td>1</td>\n",
              "      <td>O</td>\n",
              "      <td>90</td>\n",
              "      <td>15</td>\n",
              "      <td>187000</td>\n",
              "      <td>90</td>\n",
              "      <td>6.750</td>\n",
              "      <td>R</td>\n",
              "      <td>N</td>\n",
              "      <td>FRM</td>\n",
              "      <td>MD</td>\n",
              "      <td>CO</td>\n",
              "      <td>20800</td>\n",
              "      <td>F199Q1245176</td>\n",
              "      <td>P</td>\n",
              "      <td>360</td>\n",
              "      <td>1</td>\n",
              "      <td>FI</td>\n",
              "      <td>WELLSFARGOHOMEMORTGA</td>\n",
              "      <td>0</td>\n",
              "      <td>0</td>\n",
              "      <td>36</td>\n",
              "    </tr>\n",
              "    <tr>\n",
              "      <th>20</th>\n",
              "      <td>0</td>\n",
              "      <td>199903</td>\n",
              "      <td>N</td>\n",
              "      <td>202902</td>\n",
              "      <td>15764</td>\n",
              "      <td>25</td>\n",
              "      <td>1</td>\n",
              "      <td>O</td>\n",
              "      <td>90</td>\n",
              "      <td>43</td>\n",
              "      <td>148000</td>\n",
              "      <td>90</td>\n",
              "      <td>7.000</td>\n",
              "      <td>T</td>\n",
              "      <td>N</td>\n",
              "      <td>FRM</td>\n",
              "      <td>MA</td>\n",
              "      <td>SF</td>\n",
              "      <td>1800</td>\n",
              "      <td>F199Q1249125</td>\n",
              "      <td>P</td>\n",
              "      <td>360</td>\n",
              "      <td>2</td>\n",
              "      <td>HO</td>\n",
              "      <td>HOMESIDELENDINGINC</td>\n",
              "      <td>0</td>\n",
              "      <td>0</td>\n",
              "      <td>39</td>\n",
              "    </tr>\n",
              "    <tr>\n",
              "      <th>21</th>\n",
              "      <td>0</td>\n",
              "      <td>199903</td>\n",
              "      <td>N</td>\n",
              "      <td>202902</td>\n",
              "      <td>16700</td>\n",
              "      <td>0</td>\n",
              "      <td>1</td>\n",
              "      <td>O</td>\n",
              "      <td>80</td>\n",
              "      <td>29</td>\n",
              "      <td>79000</td>\n",
              "      <td>80</td>\n",
              "      <td>6.750</td>\n",
              "      <td>R</td>\n",
              "      <td>N</td>\n",
              "      <td>FRM</td>\n",
              "      <td>SC</td>\n",
              "      <td>SF</td>\n",
              "      <td>29400</td>\n",
              "      <td>F199Q1335693</td>\n",
              "      <td>P</td>\n",
              "      <td>360</td>\n",
              "      <td>1</td>\n",
              "      <td>Ot</td>\n",
              "      <td>HOMESIDELENDINGINC</td>\n",
              "      <td>0</td>\n",
              "      <td>0</td>\n",
              "      <td>40</td>\n",
              "    </tr>\n",
              "    <tr>\n",
              "      <th>22</th>\n",
              "      <td>0</td>\n",
              "      <td>199903</td>\n",
              "      <td>N</td>\n",
              "      <td>202902</td>\n",
              "      <td>16940</td>\n",
              "      <td>12</td>\n",
              "      <td>1</td>\n",
              "      <td>O</td>\n",
              "      <td>85</td>\n",
              "      <td>15</td>\n",
              "      <td>90000</td>\n",
              "      <td>85</td>\n",
              "      <td>6.625</td>\n",
              "      <td>T</td>\n",
              "      <td>N</td>\n",
              "      <td>FRM</td>\n",
              "      <td>WY</td>\n",
              "      <td>SF</td>\n",
              "      <td>82000</td>\n",
              "      <td>F199Q1294963</td>\n",
              "      <td>P</td>\n",
              "      <td>360</td>\n",
              "      <td>2</td>\n",
              "      <td>PR</td>\n",
              "      <td>PRINCIPALRESIDENTIAL</td>\n",
              "      <td>0</td>\n",
              "      <td>0</td>\n",
              "      <td>11</td>\n",
              "    </tr>\n",
              "    <tr>\n",
              "      <th>23</th>\n",
              "      <td>0</td>\n",
              "      <td>199903</td>\n",
              "      <td>N</td>\n",
              "      <td>202902</td>\n",
              "      <td>16940</td>\n",
              "      <td>30</td>\n",
              "      <td>1</td>\n",
              "      <td>O</td>\n",
              "      <td>93</td>\n",
              "      <td>25</td>\n",
              "      <td>65000</td>\n",
              "      <td>93</td>\n",
              "      <td>6.750</td>\n",
              "      <td>T</td>\n",
              "      <td>N</td>\n",
              "      <td>FRM</td>\n",
              "      <td>WY</td>\n",
              "      <td>SF</td>\n",
              "      <td>82000</td>\n",
              "      <td>F199Q1224756</td>\n",
              "      <td>P</td>\n",
              "      <td>360</td>\n",
              "      <td>1</td>\n",
              "      <td>Ot</td>\n",
              "      <td>Other servicers</td>\n",
              "      <td>0</td>\n",
              "      <td>0</td>\n",
              "      <td>55</td>\n",
              "    </tr>\n",
              "    <tr>\n",
              "      <th>24</th>\n",
              "      <td>0</td>\n",
              "      <td>199903</td>\n",
              "      <td>N</td>\n",
              "      <td>202902</td>\n",
              "      <td>16974</td>\n",
              "      <td>0</td>\n",
              "      <td>1</td>\n",
              "      <td>O</td>\n",
              "      <td>70</td>\n",
              "      <td>17</td>\n",
              "      <td>86000</td>\n",
              "      <td>70</td>\n",
              "      <td>6.750</td>\n",
              "      <td>R</td>\n",
              "      <td>N</td>\n",
              "      <td>FRM</td>\n",
              "      <td>IL</td>\n",
              "      <td>CO</td>\n",
              "      <td>60000</td>\n",
              "      <td>F199Q1363216</td>\n",
              "      <td>N</td>\n",
              "      <td>360</td>\n",
              "      <td>1</td>\n",
              "      <td>ST</td>\n",
              "      <td>CITIMORTGAGEINC</td>\n",
              "      <td>0</td>\n",
              "      <td>0</td>\n",
              "      <td>176</td>\n",
              "    </tr>\n",
              "    <tr>\n",
              "      <th>25</th>\n",
              "      <td>0</td>\n",
              "      <td>199903</td>\n",
              "      <td>N</td>\n",
              "      <td>202902</td>\n",
              "      <td>16974</td>\n",
              "      <td>0</td>\n",
              "      <td>1</td>\n",
              "      <td>O</td>\n",
              "      <td>74</td>\n",
              "      <td>16</td>\n",
              "      <td>122000</td>\n",
              "      <td>74</td>\n",
              "      <td>6.750</td>\n",
              "      <td>R</td>\n",
              "      <td>N</td>\n",
              "      <td>FRM</td>\n",
              "      <td>IL</td>\n",
              "      <td>CO</td>\n",
              "      <td>60200</td>\n",
              "      <td>F199Q1310419</td>\n",
              "      <td>C</td>\n",
              "      <td>360</td>\n",
              "      <td>1</td>\n",
              "      <td>ST</td>\n",
              "      <td>ABNAMROMTGEGROUPINC</td>\n",
              "      <td>0</td>\n",
              "      <td>0</td>\n",
              "      <td>46</td>\n",
              "    </tr>\n",
              "    <tr>\n",
              "      <th>26</th>\n",
              "      <td>0</td>\n",
              "      <td>199903</td>\n",
              "      <td>N</td>\n",
              "      <td>202902</td>\n",
              "      <td>16974</td>\n",
              "      <td>0</td>\n",
              "      <td>1</td>\n",
              "      <td>O</td>\n",
              "      <td>75</td>\n",
              "      <td>24</td>\n",
              "      <td>157000</td>\n",
              "      <td>75</td>\n",
              "      <td>7.200</td>\n",
              "      <td>R</td>\n",
              "      <td>N</td>\n",
              "      <td>FRM</td>\n",
              "      <td>IL</td>\n",
              "      <td>SF</td>\n",
              "      <td>60400</td>\n",
              "      <td>F199Q1005070</td>\n",
              "      <td>N</td>\n",
              "      <td>360</td>\n",
              "      <td>1</td>\n",
              "      <td>Ot</td>\n",
              "      <td>Other servicers</td>\n",
              "      <td>0</td>\n",
              "      <td>0</td>\n",
              "      <td>197</td>\n",
              "    </tr>\n",
              "    <tr>\n",
              "      <th>27</th>\n",
              "      <td>0</td>\n",
              "      <td>199903</td>\n",
              "      <td>N</td>\n",
              "      <td>202902</td>\n",
              "      <td>16974</td>\n",
              "      <td>0</td>\n",
              "      <td>1</td>\n",
              "      <td>O</td>\n",
              "      <td>79</td>\n",
              "      <td>43</td>\n",
              "      <td>55000</td>\n",
              "      <td>79</td>\n",
              "      <td>7.500</td>\n",
              "      <td>R</td>\n",
              "      <td>N</td>\n",
              "      <td>FRM</td>\n",
              "      <td>IL</td>\n",
              "      <td>SF</td>\n",
              "      <td>60600</td>\n",
              "      <td>F199Q1015976</td>\n",
              "      <td>N</td>\n",
              "      <td>360</td>\n",
              "      <td>1</td>\n",
              "      <td>FT</td>\n",
              "      <td>JPMORGANCHASEBANKNA</td>\n",
              "      <td>1</td>\n",
              "      <td>32</td>\n",
              "      <td>210</td>\n",
              "    </tr>\n",
              "    <tr>\n",
              "      <th>28</th>\n",
              "      <td>0</td>\n",
              "      <td>199903</td>\n",
              "      <td>N</td>\n",
              "      <td>202902</td>\n",
              "      <td>16974</td>\n",
              "      <td>12</td>\n",
              "      <td>1</td>\n",
              "      <td>O</td>\n",
              "      <td>85</td>\n",
              "      <td>29</td>\n",
              "      <td>94000</td>\n",
              "      <td>85</td>\n",
              "      <td>6.750</td>\n",
              "      <td>T</td>\n",
              "      <td>N</td>\n",
              "      <td>FRM</td>\n",
              "      <td>IL</td>\n",
              "      <td>SF</td>\n",
              "      <td>60100</td>\n",
              "      <td>F199Q1298077</td>\n",
              "      <td>P</td>\n",
              "      <td>360</td>\n",
              "      <td>1</td>\n",
              "      <td>ST</td>\n",
              "      <td>ABNAMROMTGEGROUPINC</td>\n",
              "      <td>0</td>\n",
              "      <td>0</td>\n",
              "      <td>56</td>\n",
              "    </tr>\n",
              "    <tr>\n",
              "      <th>29</th>\n",
              "      <td>0</td>\n",
              "      <td>199903</td>\n",
              "      <td>N</td>\n",
              "      <td>202902</td>\n",
              "      <td>16974</td>\n",
              "      <td>25</td>\n",
              "      <td>1</td>\n",
              "      <td>O</td>\n",
              "      <td>89</td>\n",
              "      <td>28</td>\n",
              "      <td>63000</td>\n",
              "      <td>89</td>\n",
              "      <td>7.000</td>\n",
              "      <td>T</td>\n",
              "      <td>N</td>\n",
              "      <td>FRM</td>\n",
              "      <td>IL</td>\n",
              "      <td>SF</td>\n",
              "      <td>60600</td>\n",
              "      <td>F199Q1304113</td>\n",
              "      <td>P</td>\n",
              "      <td>360</td>\n",
              "      <td>2</td>\n",
              "      <td>CR</td>\n",
              "      <td>CHASEHOMEFINANCELLC</td>\n",
              "      <td>0</td>\n",
              "      <td>0</td>\n",
              "      <td>118</td>\n",
              "    </tr>\n",
              "    <tr>\n",
              "      <th>30</th>\n",
              "      <td>0</td>\n",
              "      <td>199903</td>\n",
              "      <td>N</td>\n",
              "      <td>202902</td>\n",
              "      <td>16974</td>\n",
              "      <td>25</td>\n",
              "      <td>1</td>\n",
              "      <td>O</td>\n",
              "      <td>90</td>\n",
              "      <td>17</td>\n",
              "      <td>50000</td>\n",
              "      <td>90</td>\n",
              "      <td>7.000</td>\n",
              "      <td>T</td>\n",
              "      <td>N</td>\n",
              "      <td>FRM</td>\n",
              "      <td>IL</td>\n",
              "      <td>CO</td>\n",
              "      <td>60400</td>\n",
              "      <td>F199Q1038536</td>\n",
              "      <td>P</td>\n",
              "      <td>360</td>\n",
              "      <td>1</td>\n",
              "      <td>NO</td>\n",
              "      <td>WELLSFARGOBANKNA</td>\n",
              "      <td>0</td>\n",
              "      <td>0</td>\n",
              "      <td>63</td>\n",
              "    </tr>\n",
              "    <tr>\n",
              "      <th>31</th>\n",
              "      <td>0</td>\n",
              "      <td>199903</td>\n",
              "      <td>N</td>\n",
              "      <td>202902</td>\n",
              "      <td>16974</td>\n",
              "      <td>30</td>\n",
              "      <td>1</td>\n",
              "      <td>O</td>\n",
              "      <td>95</td>\n",
              "      <td>45</td>\n",
              "      <td>109000</td>\n",
              "      <td>95</td>\n",
              "      <td>6.875</td>\n",
              "      <td>T</td>\n",
              "      <td>N</td>\n",
              "      <td>FRM</td>\n",
              "      <td>IL</td>\n",
              "      <td>SF</td>\n",
              "      <td>60600</td>\n",
              "      <td>F199Q1117634</td>\n",
              "      <td>P</td>\n",
              "      <td>360</td>\n",
              "      <td>1</td>\n",
              "      <td>HO</td>\n",
              "      <td>HOMESIDELENDINGINC</td>\n",
              "      <td>0</td>\n",
              "      <td>0</td>\n",
              "      <td>38</td>\n",
              "    </tr>\n",
              "    <tr>\n",
              "      <th>32</th>\n",
              "      <td>0</td>\n",
              "      <td>199903</td>\n",
              "      <td>N</td>\n",
              "      <td>202902</td>\n",
              "      <td>17900</td>\n",
              "      <td>30</td>\n",
              "      <td>1</td>\n",
              "      <td>O</td>\n",
              "      <td>95</td>\n",
              "      <td>18</td>\n",
              "      <td>100000</td>\n",
              "      <td>95</td>\n",
              "      <td>6.625</td>\n",
              "      <td>R</td>\n",
              "      <td>N</td>\n",
              "      <td>FRM</td>\n",
              "      <td>SC</td>\n",
              "      <td>SF</td>\n",
              "      <td>29000</td>\n",
              "      <td>F199Q1237803</td>\n",
              "      <td>P</td>\n",
              "      <td>360</td>\n",
              "      <td>1</td>\n",
              "      <td>NaN</td>\n",
              "      <td>BAMORTGAGELLC</td>\n",
              "      <td>0</td>\n",
              "      <td>0</td>\n",
              "      <td>46</td>\n",
              "    </tr>\n",
              "    <tr>\n",
              "      <th>33</th>\n",
              "      <td>0</td>\n",
              "      <td>199903</td>\n",
              "      <td>N</td>\n",
              "      <td>202902</td>\n",
              "      <td>19124</td>\n",
              "      <td>0</td>\n",
              "      <td>1</td>\n",
              "      <td>O</td>\n",
              "      <td>75</td>\n",
              "      <td>26</td>\n",
              "      <td>191000</td>\n",
              "      <td>75</td>\n",
              "      <td>6.875</td>\n",
              "      <td>T</td>\n",
              "      <td>N</td>\n",
              "      <td>FRM</td>\n",
              "      <td>TX</td>\n",
              "      <td>CO</td>\n",
              "      <td>75200</td>\n",
              "      <td>F199Q1297923</td>\n",
              "      <td>P</td>\n",
              "      <td>360</td>\n",
              "      <td>2</td>\n",
              "      <td>CH</td>\n",
              "      <td>CHASEMTGECO</td>\n",
              "      <td>0</td>\n",
              "      <td>0</td>\n",
              "      <td>24</td>\n",
              "    </tr>\n",
              "    <tr>\n",
              "      <th>34</th>\n",
              "      <td>0</td>\n",
              "      <td>199903</td>\n",
              "      <td>N</td>\n",
              "      <td>202902</td>\n",
              "      <td>19124</td>\n",
              "      <td>0</td>\n",
              "      <td>1</td>\n",
              "      <td>O</td>\n",
              "      <td>80</td>\n",
              "      <td>20</td>\n",
              "      <td>204000</td>\n",
              "      <td>80</td>\n",
              "      <td>6.750</td>\n",
              "      <td>T</td>\n",
              "      <td>N</td>\n",
              "      <td>FRM</td>\n",
              "      <td>TX</td>\n",
              "      <td>SF</td>\n",
              "      <td>75200</td>\n",
              "      <td>F199Q1297812</td>\n",
              "      <td>P</td>\n",
              "      <td>360</td>\n",
              "      <td>1</td>\n",
              "      <td>CH</td>\n",
              "      <td>CHASEMTGECO</td>\n",
              "      <td>0</td>\n",
              "      <td>0</td>\n",
              "      <td>28</td>\n",
              "    </tr>\n",
              "    <tr>\n",
              "      <th>35</th>\n",
              "      <td>0</td>\n",
              "      <td>199903</td>\n",
              "      <td>N</td>\n",
              "      <td>202902</td>\n",
              "      <td>19124</td>\n",
              "      <td>30</td>\n",
              "      <td>1</td>\n",
              "      <td>O</td>\n",
              "      <td>95</td>\n",
              "      <td>40</td>\n",
              "      <td>117000</td>\n",
              "      <td>95</td>\n",
              "      <td>6.750</td>\n",
              "      <td>T</td>\n",
              "      <td>Y</td>\n",
              "      <td>FRM</td>\n",
              "      <td>TX</td>\n",
              "      <td>SF</td>\n",
              "      <td>75200</td>\n",
              "      <td>F199Q1254415</td>\n",
              "      <td>P</td>\n",
              "      <td>360</td>\n",
              "      <td>1</td>\n",
              "      <td>Ot</td>\n",
              "      <td>CITIMORTGAGEINC</td>\n",
              "      <td>1</td>\n",
              "      <td>1</td>\n",
              "      <td>91</td>\n",
              "    </tr>\n",
              "    <tr>\n",
              "      <th>36</th>\n",
              "      <td>0</td>\n",
              "      <td>199903</td>\n",
              "      <td>N</td>\n",
              "      <td>202902</td>\n",
              "      <td>20500</td>\n",
              "      <td>0</td>\n",
              "      <td>1</td>\n",
              "      <td>O</td>\n",
              "      <td>80</td>\n",
              "      <td>35</td>\n",
              "      <td>222000</td>\n",
              "      <td>80</td>\n",
              "      <td>6.625</td>\n",
              "      <td>R</td>\n",
              "      <td>N</td>\n",
              "      <td>FRM</td>\n",
              "      <td>NC</td>\n",
              "      <td>PU</td>\n",
              "      <td>27500</td>\n",
              "      <td>F199Q1298962</td>\n",
              "      <td>P</td>\n",
              "      <td>360</td>\n",
              "      <td>1</td>\n",
              "      <td>PR</td>\n",
              "      <td>PRINCIPALRESIDENTIAL</td>\n",
              "      <td>0</td>\n",
              "      <td>0</td>\n",
              "      <td>54</td>\n",
              "    </tr>\n",
              "    <tr>\n",
              "      <th>37</th>\n",
              "      <td>0</td>\n",
              "      <td>199903</td>\n",
              "      <td>N</td>\n",
              "      <td>202902</td>\n",
              "      <td>20500</td>\n",
              "      <td>25</td>\n",
              "      <td>1</td>\n",
              "      <td>O</td>\n",
              "      <td>90</td>\n",
              "      <td>29</td>\n",
              "      <td>189000</td>\n",
              "      <td>90</td>\n",
              "      <td>6.625</td>\n",
              "      <td>R</td>\n",
              "      <td>N</td>\n",
              "      <td>FRM</td>\n",
              "      <td>NC</td>\n",
              "      <td>SF</td>\n",
              "      <td>27500</td>\n",
              "      <td>F199Q1238547</td>\n",
              "      <td>P</td>\n",
              "      <td>360</td>\n",
              "      <td>1</td>\n",
              "      <td>NaN</td>\n",
              "      <td>BAMORTGAGELLC</td>\n",
              "      <td>1</td>\n",
              "      <td>2</td>\n",
              "      <td>50</td>\n",
              "    </tr>\n",
              "    <tr>\n",
              "      <th>38</th>\n",
              "      <td>0</td>\n",
              "      <td>199903</td>\n",
              "      <td>N</td>\n",
              "      <td>202902</td>\n",
              "      <td>20764</td>\n",
              "      <td>0</td>\n",
              "      <td>1</td>\n",
              "      <td>I</td>\n",
              "      <td>85</td>\n",
              "      <td>46</td>\n",
              "      <td>57000</td>\n",
              "      <td>85</td>\n",
              "      <td>7.625</td>\n",
              "      <td>R</td>\n",
              "      <td>X</td>\n",
              "      <td>FRM</td>\n",
              "      <td>NJ</td>\n",
              "      <td>SF</td>\n",
              "      <td>7700</td>\n",
              "      <td>F199Q1219516</td>\n",
              "      <td>P</td>\n",
              "      <td>360</td>\n",
              "      <td>1</td>\n",
              "      <td>NaN</td>\n",
              "      <td>NATLCITYMTGECO</td>\n",
              "      <td>0</td>\n",
              "      <td>0</td>\n",
              "      <td>24</td>\n",
              "    </tr>\n",
              "    <tr>\n",
              "      <th>39</th>\n",
              "      <td>0</td>\n",
              "      <td>199903</td>\n",
              "      <td>N</td>\n",
              "      <td>202902</td>\n",
              "      <td>20764</td>\n",
              "      <td>0</td>\n",
              "      <td>1</td>\n",
              "      <td>O</td>\n",
              "      <td>80</td>\n",
              "      <td>24</td>\n",
              "      <td>202000</td>\n",
              "      <td>80</td>\n",
              "      <td>6.875</td>\n",
              "      <td>R</td>\n",
              "      <td>N</td>\n",
              "      <td>FRM</td>\n",
              "      <td>NJ</td>\n",
              "      <td>SF</td>\n",
              "      <td>7700</td>\n",
              "      <td>F199Q1398787</td>\n",
              "      <td>P</td>\n",
              "      <td>360</td>\n",
              "      <td>2</td>\n",
              "      <td>Ot</td>\n",
              "      <td>Other servicers</td>\n",
              "      <td>0</td>\n",
              "      <td>0</td>\n",
              "      <td>22</td>\n",
              "    </tr>\n",
              "    <tr>\n",
              "      <th>40</th>\n",
              "      <td>0</td>\n",
              "      <td>199903</td>\n",
              "      <td>N</td>\n",
              "      <td>202902</td>\n",
              "      <td>20764</td>\n",
              "      <td>30</td>\n",
              "      <td>1</td>\n",
              "      <td>O</td>\n",
              "      <td>95</td>\n",
              "      <td>21</td>\n",
              "      <td>137000</td>\n",
              "      <td>95</td>\n",
              "      <td>7.250</td>\n",
              "      <td>R</td>\n",
              "      <td>N</td>\n",
              "      <td>FRM</td>\n",
              "      <td>NJ</td>\n",
              "      <td>CO</td>\n",
              "      <td>7700</td>\n",
              "      <td>F199Q1005696</td>\n",
              "      <td>P</td>\n",
              "      <td>360</td>\n",
              "      <td>1</td>\n",
              "      <td>NaN</td>\n",
              "      <td>NATLCITYMTGECO</td>\n",
              "      <td>0</td>\n",
              "      <td>0</td>\n",
              "      <td>28</td>\n",
              "    </tr>\n",
              "    <tr>\n",
              "      <th>41</th>\n",
              "      <td>0</td>\n",
              "      <td>199903</td>\n",
              "      <td>N</td>\n",
              "      <td>202902</td>\n",
              "      <td>21340</td>\n",
              "      <td>30</td>\n",
              "      <td>1</td>\n",
              "      <td>O</td>\n",
              "      <td>95</td>\n",
              "      <td>18</td>\n",
              "      <td>56000</td>\n",
              "      <td>95</td>\n",
              "      <td>7.500</td>\n",
              "      <td>T</td>\n",
              "      <td>N</td>\n",
              "      <td>FRM</td>\n",
              "      <td>TX</td>\n",
              "      <td>SF</td>\n",
              "      <td>79900</td>\n",
              "      <td>F199Q1316076</td>\n",
              "      <td>P</td>\n",
              "      <td>360</td>\n",
              "      <td>1</td>\n",
              "      <td>ST</td>\n",
              "      <td>CITIMORTGAGEINC</td>\n",
              "      <td>0</td>\n",
              "      <td>0</td>\n",
              "      <td>211</td>\n",
              "    </tr>\n",
              "    <tr>\n",
              "      <th>42</th>\n",
              "      <td>0</td>\n",
              "      <td>199903</td>\n",
              "      <td>N</td>\n",
              "      <td>202902</td>\n",
              "      <td>22380</td>\n",
              "      <td>0</td>\n",
              "      <td>1</td>\n",
              "      <td>S</td>\n",
              "      <td>80</td>\n",
              "      <td>29</td>\n",
              "      <td>140000</td>\n",
              "      <td>80</td>\n",
              "      <td>6.625</td>\n",
              "      <td>T</td>\n",
              "      <td>Y</td>\n",
              "      <td>FRM</td>\n",
              "      <td>AZ</td>\n",
              "      <td>SF</td>\n",
              "      <td>86000</td>\n",
              "      <td>F199Q1253924</td>\n",
              "      <td>P</td>\n",
              "      <td>360</td>\n",
              "      <td>1</td>\n",
              "      <td>Ot</td>\n",
              "      <td>Other servicers</td>\n",
              "      <td>1</td>\n",
              "      <td>1</td>\n",
              "      <td>212</td>\n",
              "    </tr>\n",
              "    <tr>\n",
              "      <th>43</th>\n",
              "      <td>0</td>\n",
              "      <td>199903</td>\n",
              "      <td>N</td>\n",
              "      <td>202902</td>\n",
              "      <td>22744</td>\n",
              "      <td>0</td>\n",
              "      <td>1</td>\n",
              "      <td>O</td>\n",
              "      <td>75</td>\n",
              "      <td>39</td>\n",
              "      <td>18000</td>\n",
              "      <td>75</td>\n",
              "      <td>7.125</td>\n",
              "      <td>R</td>\n",
              "      <td>N</td>\n",
              "      <td>FRM</td>\n",
              "      <td>FL</td>\n",
              "      <td>CO</td>\n",
              "      <td>33300</td>\n",
              "      <td>F199Q1031556</td>\n",
              "      <td>P</td>\n",
              "      <td>360</td>\n",
              "      <td>1</td>\n",
              "      <td>PN</td>\n",
              "      <td>JPMORGANCHASEBANKNA</td>\n",
              "      <td>1</td>\n",
              "      <td>4</td>\n",
              "      <td>199</td>\n",
              "    </tr>\n",
              "    <tr>\n",
              "      <th>44</th>\n",
              "      <td>0</td>\n",
              "      <td>199903</td>\n",
              "      <td>N</td>\n",
              "      <td>202902</td>\n",
              "      <td>22744</td>\n",
              "      <td>30</td>\n",
              "      <td>1</td>\n",
              "      <td>O</td>\n",
              "      <td>95</td>\n",
              "      <td>35</td>\n",
              "      <td>109000</td>\n",
              "      <td>95</td>\n",
              "      <td>7.875</td>\n",
              "      <td>R</td>\n",
              "      <td>N</td>\n",
              "      <td>FRM</td>\n",
              "      <td>FL</td>\n",
              "      <td>SF</td>\n",
              "      <td>33000</td>\n",
              "      <td>F199Q1005620</td>\n",
              "      <td>P</td>\n",
              "      <td>360</td>\n",
              "      <td>2</td>\n",
              "      <td>NaN</td>\n",
              "      <td>NATLCITYMTGECO</td>\n",
              "      <td>1</td>\n",
              "      <td>2</td>\n",
              "      <td>39</td>\n",
              "    </tr>\n",
              "    <tr>\n",
              "      <th>45</th>\n",
              "      <td>0</td>\n",
              "      <td>199903</td>\n",
              "      <td>N</td>\n",
              "      <td>202902</td>\n",
              "      <td>23060</td>\n",
              "      <td>30</td>\n",
              "      <td>1</td>\n",
              "      <td>O</td>\n",
              "      <td>95</td>\n",
              "      <td>33</td>\n",
              "      <td>76000</td>\n",
              "      <td>95</td>\n",
              "      <td>7.000</td>\n",
              "      <td>R</td>\n",
              "      <td>N</td>\n",
              "      <td>FRM</td>\n",
              "      <td>IN</td>\n",
              "      <td>PU</td>\n",
              "      <td>46800</td>\n",
              "      <td>F199Q1002591</td>\n",
              "      <td>P</td>\n",
              "      <td>360</td>\n",
              "      <td>1</td>\n",
              "      <td>NO</td>\n",
              "      <td>WELLSFARGOHOMEMORTGA</td>\n",
              "      <td>0</td>\n",
              "      <td>0</td>\n",
              "      <td>55</td>\n",
              "    </tr>\n",
              "    <tr>\n",
              "      <th>46</th>\n",
              "      <td>0</td>\n",
              "      <td>199903</td>\n",
              "      <td>N</td>\n",
              "      <td>202902</td>\n",
              "      <td>23104</td>\n",
              "      <td>30</td>\n",
              "      <td>1</td>\n",
              "      <td>O</td>\n",
              "      <td>95</td>\n",
              "      <td>25</td>\n",
              "      <td>77000</td>\n",
              "      <td>95</td>\n",
              "      <td>6.750</td>\n",
              "      <td>R</td>\n",
              "      <td>N</td>\n",
              "      <td>FRM</td>\n",
              "      <td>TX</td>\n",
              "      <td>SF</td>\n",
              "      <td>76100</td>\n",
              "      <td>F199Q1237614</td>\n",
              "      <td>P</td>\n",
              "      <td>360</td>\n",
              "      <td>2</td>\n",
              "      <td>NaN</td>\n",
              "      <td>BANKOFAMERICANA</td>\n",
              "      <td>0</td>\n",
              "      <td>0</td>\n",
              "      <td>56</td>\n",
              "    </tr>\n",
              "    <tr>\n",
              "      <th>47</th>\n",
              "      <td>0</td>\n",
              "      <td>199903</td>\n",
              "      <td>N</td>\n",
              "      <td>202902</td>\n",
              "      <td>24660</td>\n",
              "      <td>30</td>\n",
              "      <td>1</td>\n",
              "      <td>O</td>\n",
              "      <td>95</td>\n",
              "      <td>38</td>\n",
              "      <td>109000</td>\n",
              "      <td>95</td>\n",
              "      <td>7.250</td>\n",
              "      <td>T</td>\n",
              "      <td>N</td>\n",
              "      <td>FRM</td>\n",
              "      <td>NC</td>\n",
              "      <td>SF</td>\n",
              "      <td>27400</td>\n",
              "      <td>F199Q1275011</td>\n",
              "      <td>P</td>\n",
              "      <td>360</td>\n",
              "      <td>1</td>\n",
              "      <td>Ot</td>\n",
              "      <td>FTMTGESERVICESINC</td>\n",
              "      <td>0</td>\n",
              "      <td>0</td>\n",
              "      <td>23</td>\n",
              "    </tr>\n",
              "    <tr>\n",
              "      <th>48</th>\n",
              "      <td>0</td>\n",
              "      <td>199903</td>\n",
              "      <td>N</td>\n",
              "      <td>202902</td>\n",
              "      <td>24860</td>\n",
              "      <td>0</td>\n",
              "      <td>1</td>\n",
              "      <td>O</td>\n",
              "      <td>70</td>\n",
              "      <td>16</td>\n",
              "      <td>100000</td>\n",
              "      <td>70</td>\n",
              "      <td>6.500</td>\n",
              "      <td>T</td>\n",
              "      <td>N</td>\n",
              "      <td>FRM</td>\n",
              "      <td>SC</td>\n",
              "      <td>SF</td>\n",
              "      <td>29600</td>\n",
              "      <td>F199Q1384549</td>\n",
              "      <td>C</td>\n",
              "      <td>360</td>\n",
              "      <td>2</td>\n",
              "      <td>Ot</td>\n",
              "      <td>Other servicers</td>\n",
              "      <td>0</td>\n",
              "      <td>0</td>\n",
              "      <td>30</td>\n",
              "    </tr>\n",
              "    <tr>\n",
              "      <th>49</th>\n",
              "      <td>0</td>\n",
              "      <td>199903</td>\n",
              "      <td>N</td>\n",
              "      <td>202902</td>\n",
              "      <td>24860</td>\n",
              "      <td>0</td>\n",
              "      <td>1</td>\n",
              "      <td>O</td>\n",
              "      <td>72</td>\n",
              "      <td>24</td>\n",
              "      <td>151000</td>\n",
              "      <td>72</td>\n",
              "      <td>6.750</td>\n",
              "      <td>T</td>\n",
              "      <td>N</td>\n",
              "      <td>FRM</td>\n",
              "      <td>SC</td>\n",
              "      <td>PU</td>\n",
              "      <td>29600</td>\n",
              "      <td>F199Q1384545</td>\n",
              "      <td>P</td>\n",
              "      <td>360</td>\n",
              "      <td>2</td>\n",
              "      <td>Ot</td>\n",
              "      <td>Other servicers</td>\n",
              "      <td>0</td>\n",
              "      <td>0</td>\n",
              "      <td>35</td>\n",
              "    </tr>\n",
              "  </tbody>\n",
              "</table>\n",
              "</div>\n",
              "      <button class=\"colab-df-convert\" onclick=\"convertToInteractive('df-9bb3b891-1fa7-4071-b512-6d835e7d5ab7')\"\n",
              "              title=\"Convert this dataframe to an interactive table.\"\n",
              "              style=\"display:none;\">\n",
              "        \n",
              "  <svg xmlns=\"http://www.w3.org/2000/svg\" height=\"24px\"viewBox=\"0 0 24 24\"\n",
              "       width=\"24px\">\n",
              "    <path d=\"M0 0h24v24H0V0z\" fill=\"none\"/>\n",
              "    <path d=\"M18.56 5.44l.94 2.06.94-2.06 2.06-.94-2.06-.94-.94-2.06-.94 2.06-2.06.94zm-11 1L8.5 8.5l.94-2.06 2.06-.94-2.06-.94L8.5 2.5l-.94 2.06-2.06.94zm10 10l.94 2.06.94-2.06 2.06-.94-2.06-.94-.94-2.06-.94 2.06-2.06.94z\"/><path d=\"M17.41 7.96l-1.37-1.37c-.4-.4-.92-.59-1.43-.59-.52 0-1.04.2-1.43.59L10.3 9.45l-7.72 7.72c-.78.78-.78 2.05 0 2.83L4 21.41c.39.39.9.59 1.41.59.51 0 1.02-.2 1.41-.59l7.78-7.78 2.81-2.81c.8-.78.8-2.07 0-2.86zM5.41 20L4 18.59l7.72-7.72 1.47 1.35L5.41 20z\"/>\n",
              "  </svg>\n",
              "      </button>\n",
              "      \n",
              "  <style>\n",
              "    .colab-df-container {\n",
              "      display:flex;\n",
              "      flex-wrap:wrap;\n",
              "      gap: 12px;\n",
              "    }\n",
              "\n",
              "    .colab-df-convert {\n",
              "      background-color: #E8F0FE;\n",
              "      border: none;\n",
              "      border-radius: 50%;\n",
              "      cursor: pointer;\n",
              "      display: none;\n",
              "      fill: #1967D2;\n",
              "      height: 32px;\n",
              "      padding: 0 0 0 0;\n",
              "      width: 32px;\n",
              "    }\n",
              "\n",
              "    .colab-df-convert:hover {\n",
              "      background-color: #E2EBFA;\n",
              "      box-shadow: 0px 1px 2px rgba(60, 64, 67, 0.3), 0px 1px 3px 1px rgba(60, 64, 67, 0.15);\n",
              "      fill: #174EA6;\n",
              "    }\n",
              "\n",
              "    [theme=dark] .colab-df-convert {\n",
              "      background-color: #3B4455;\n",
              "      fill: #D2E3FC;\n",
              "    }\n",
              "\n",
              "    [theme=dark] .colab-df-convert:hover {\n",
              "      background-color: #434B5C;\n",
              "      box-shadow: 0px 1px 3px 1px rgba(0, 0, 0, 0.15);\n",
              "      filter: drop-shadow(0px 1px 2px rgba(0, 0, 0, 0.3));\n",
              "      fill: #FFFFFF;\n",
              "    }\n",
              "  </style>\n",
              "\n",
              "      <script>\n",
              "        const buttonEl =\n",
              "          document.querySelector('#df-9bb3b891-1fa7-4071-b512-6d835e7d5ab7 button.colab-df-convert');\n",
              "        buttonEl.style.display =\n",
              "          google.colab.kernel.accessAllowed ? 'block' : 'none';\n",
              "\n",
              "        async function convertToInteractive(key) {\n",
              "          const element = document.querySelector('#df-9bb3b891-1fa7-4071-b512-6d835e7d5ab7');\n",
              "          const dataTable =\n",
              "            await google.colab.kernel.invokeFunction('convertToInteractive',\n",
              "                                                     [key], {});\n",
              "          if (!dataTable) return;\n",
              "\n",
              "          const docLinkHtml = 'Like what you see? Visit the ' +\n",
              "            '<a target=\"_blank\" href=https://colab.research.google.com/notebooks/data_table.ipynb>data table notebook</a>'\n",
              "            + ' to learn more about interactive tables.';\n",
              "          element.innerHTML = '';\n",
              "          dataTable['output_type'] = 'display_data';\n",
              "          await google.colab.output.renderOutput(dataTable, element);\n",
              "          const docLink = document.createElement('div');\n",
              "          docLink.innerHTML = docLinkHtml;\n",
              "          element.appendChild(docLink);\n",
              "        }\n",
              "      </script>\n",
              "    </div>\n",
              "  </div>\n",
              "  "
            ]
          },
          "metadata": {},
          "execution_count": 699
        }
      ]
    },
    {
      "cell_type": "code",
      "source": [
        "\n",
        " categoricalcolumns=[]\n",
        " numericalcolumns=[]\n",
        " for i in loan_export.columns:\n",
        "   if loan_export[i].dtypes==object:\n",
        "      categoricalcolumns.append(i)\n",
        "   else:\n",
        "      numericalcolumns.append(i)\n",
        "      \n",
        "  "
      ],
      "metadata": {
        "id": "r7XQDBcqg5IE"
      },
      "execution_count": 700,
      "outputs": []
    },
    {
      "cell_type": "code",
      "source": [
        "categoricalcolumns"
      ],
      "metadata": {
        "colab": {
          "base_uri": "https://localhost:8080/"
        },
        "id": "115zhtIZmMZ9",
        "outputId": "d0b9bb93-c265-4b9a-e13c-db234899ee54"
      },
      "execution_count": 701,
      "outputs": [
        {
          "output_type": "execute_result",
          "data": {
            "text/plain": [
              "['FirstTimeHomebuyer',\n",
              " 'MSA',\n",
              " 'Occupancy',\n",
              " 'Channel',\n",
              " 'PPM',\n",
              " 'ProductType',\n",
              " 'PropertyState',\n",
              " 'PropertyType',\n",
              " 'PostalCode',\n",
              " 'LoanSeqNum',\n",
              " 'LoanPurpose',\n",
              " 'NumBorrowers',\n",
              " 'SellerName',\n",
              " 'ServicerName']"
            ]
          },
          "metadata": {},
          "execution_count": 701
        }
      ]
    },
    {
      "cell_type": "code",
      "source": [
        "loan_export.shape"
      ],
      "metadata": {
        "colab": {
          "base_uri": "https://localhost:8080/"
        },
        "id": "buFWXpR7l6IX",
        "outputId": "b429e7b2-7483-4fab-c65c-8f6580867693"
      },
      "execution_count": 702,
      "outputs": [
        {
          "output_type": "execute_result",
          "data": {
            "text/plain": [
              "(291451, 28)"
            ]
          },
          "metadata": {},
          "execution_count": 702
        }
      ]
    },
    {
      "cell_type": "code",
      "source": [
        "loan_export.info()"
      ],
      "metadata": {
        "colab": {
          "base_uri": "https://localhost:8080/"
        },
        "id": "WC02O8rohBul",
        "outputId": "cd8d48e2-fc97-4643-abb0-725b9d27b4bd"
      },
      "execution_count": 703,
      "outputs": [
        {
          "output_type": "stream",
          "name": "stdout",
          "text": [
            "<class 'pandas.core.frame.DataFrame'>\n",
            "RangeIndex: 291451 entries, 0 to 291450\n",
            "Data columns (total 28 columns):\n",
            " #   Column              Non-Null Count   Dtype  \n",
            "---  ------              --------------   -----  \n",
            " 0   CreditScore         291451 non-null  int64  \n",
            " 1   FirstPaymentDate    291451 non-null  int64  \n",
            " 2   FirstTimeHomebuyer  291451 non-null  object \n",
            " 3   MaturityDate        291451 non-null  int64  \n",
            " 4   MSA                 291451 non-null  object \n",
            " 5   MIP                 291451 non-null  int64  \n",
            " 6   Units               291451 non-null  int64  \n",
            " 7   Occupancy           291451 non-null  object \n",
            " 8   OCLTV               291451 non-null  int64  \n",
            " 9   DTI                 291451 non-null  int64  \n",
            " 10  OrigUPB             291451 non-null  int64  \n",
            " 11  LTV                 291451 non-null  int64  \n",
            " 12  OrigInterestRate    291451 non-null  float64\n",
            " 13  Channel             291451 non-null  object \n",
            " 14  PPM                 291451 non-null  object \n",
            " 15  ProductType         291451 non-null  object \n",
            " 16  PropertyState       291451 non-null  object \n",
            " 17  PropertyType        291451 non-null  object \n",
            " 18  PostalCode          291451 non-null  object \n",
            " 19  LoanSeqNum          291451 non-null  object \n",
            " 20  LoanPurpose         291451 non-null  object \n",
            " 21  OrigLoanTerm        291451 non-null  int64  \n",
            " 22  NumBorrowers        291451 non-null  object \n",
            " 23  SellerName          266457 non-null  object \n",
            " 24  ServicerName        291451 non-null  object \n",
            " 25  EverDelinquent      291451 non-null  int64  \n",
            " 26  MonthsDelinquent    291451 non-null  int64  \n",
            " 27  MonthsInRepayment   291451 non-null  int64  \n",
            "dtypes: float64(1), int64(13), object(14)\n",
            "memory usage: 62.3+ MB\n"
          ]
        }
      ]
    },
    {
      "cell_type": "code",
      "source": [
        "loan_export.FirstTimeHomebuyer.value_counts()"
      ],
      "metadata": {
        "colab": {
          "base_uri": "https://localhost:8080/"
        },
        "id": "vBu5HHEEmCP8",
        "outputId": "12209511-0012-4556-d522-b0f254c1d9a7"
      },
      "execution_count": 704,
      "outputs": [
        {
          "output_type": "execute_result",
          "data": {
            "text/plain": [
              "N    184154\n",
              "X     78015\n",
              "Y     29282\n",
              "Name: FirstTimeHomebuyer, dtype: int64"
            ]
          },
          "metadata": {},
          "execution_count": 704
        }
      ]
    },
    {
      "cell_type": "code",
      "source": [
        "def valuecounts(x):\n",
        "    print(loan_export[x].value_counts())"
      ],
      "metadata": {
        "id": "X_AxACVkmoiq"
      },
      "execution_count": 705,
      "outputs": []
    },
    {
      "cell_type": "code",
      "source": [
        "\n",
        "pd.set_option(\"display.max_rows\",None)"
      ],
      "metadata": {
        "id": "zDLjZa07zFQL"
      },
      "execution_count": 706,
      "outputs": []
    },
    {
      "cell_type": "code",
      "source": [
        "loan_export.describe(include=\"O\")"
      ],
      "metadata": {
        "colab": {
          "base_uri": "https://localhost:8080/",
          "height": 256
        },
        "id": "5AIPVoyL2IjW",
        "outputId": "95bfc02c-eb87-4dc8-f5b7-134ab2bbe658"
      },
      "execution_count": 707,
      "outputs": [
        {
          "output_type": "execute_result",
          "data": {
            "text/plain": [
              "       FirstTimeHomebuyer     MSA Occupancy Channel     PPM ProductType  \\\n",
              "count              291451  291451    291451  291451  291451      291451   \n",
              "unique                  3     392         3       4       3           1   \n",
              "top                     N   X             O       T       N       FRM     \n",
              "freq               184154   39100    276131  167670  282125      291451   \n",
              "\n",
              "       PropertyState PropertyType PostalCode    LoanSeqNum LoanPurpose  \\\n",
              "count         291451       291451     291451        291451      291451   \n",
              "unique            53            7       1767        291451           3   \n",
              "top               CA           SF      94500  F199Q1268030           P   \n",
              "freq           43327       244923       2582             1      123404   \n",
              "\n",
              "       NumBorrowers SellerName          ServicerName  \n",
              "count        291451     266457                291451  \n",
              "unique            3         20                    20  \n",
              "top               2         Ot  Other servicers       \n",
              "freq         187335      76943                 64043  "
            ],
            "text/html": [
              "\n",
              "  <div id=\"df-7efa3614-20bd-4ecf-8066-6ba4d7c829c1\">\n",
              "    <div class=\"colab-df-container\">\n",
              "      <div>\n",
              "<style scoped>\n",
              "    .dataframe tbody tr th:only-of-type {\n",
              "        vertical-align: middle;\n",
              "    }\n",
              "\n",
              "    .dataframe tbody tr th {\n",
              "        vertical-align: top;\n",
              "    }\n",
              "\n",
              "    .dataframe thead th {\n",
              "        text-align: right;\n",
              "    }\n",
              "</style>\n",
              "<table border=\"1\" class=\"dataframe\">\n",
              "  <thead>\n",
              "    <tr style=\"text-align: right;\">\n",
              "      <th></th>\n",
              "      <th>FirstTimeHomebuyer</th>\n",
              "      <th>MSA</th>\n",
              "      <th>Occupancy</th>\n",
              "      <th>Channel</th>\n",
              "      <th>PPM</th>\n",
              "      <th>ProductType</th>\n",
              "      <th>PropertyState</th>\n",
              "      <th>PropertyType</th>\n",
              "      <th>PostalCode</th>\n",
              "      <th>LoanSeqNum</th>\n",
              "      <th>LoanPurpose</th>\n",
              "      <th>NumBorrowers</th>\n",
              "      <th>SellerName</th>\n",
              "      <th>ServicerName</th>\n",
              "    </tr>\n",
              "  </thead>\n",
              "  <tbody>\n",
              "    <tr>\n",
              "      <th>count</th>\n",
              "      <td>291451</td>\n",
              "      <td>291451</td>\n",
              "      <td>291451</td>\n",
              "      <td>291451</td>\n",
              "      <td>291451</td>\n",
              "      <td>291451</td>\n",
              "      <td>291451</td>\n",
              "      <td>291451</td>\n",
              "      <td>291451</td>\n",
              "      <td>291451</td>\n",
              "      <td>291451</td>\n",
              "      <td>291451</td>\n",
              "      <td>266457</td>\n",
              "      <td>291451</td>\n",
              "    </tr>\n",
              "    <tr>\n",
              "      <th>unique</th>\n",
              "      <td>3</td>\n",
              "      <td>392</td>\n",
              "      <td>3</td>\n",
              "      <td>4</td>\n",
              "      <td>3</td>\n",
              "      <td>1</td>\n",
              "      <td>53</td>\n",
              "      <td>7</td>\n",
              "      <td>1767</td>\n",
              "      <td>291451</td>\n",
              "      <td>3</td>\n",
              "      <td>3</td>\n",
              "      <td>20</td>\n",
              "      <td>20</td>\n",
              "    </tr>\n",
              "    <tr>\n",
              "      <th>top</th>\n",
              "      <td>N</td>\n",
              "      <td>X</td>\n",
              "      <td>O</td>\n",
              "      <td>T</td>\n",
              "      <td>N</td>\n",
              "      <td>FRM</td>\n",
              "      <td>CA</td>\n",
              "      <td>SF</td>\n",
              "      <td>94500</td>\n",
              "      <td>F199Q1268030</td>\n",
              "      <td>P</td>\n",
              "      <td>2</td>\n",
              "      <td>Ot</td>\n",
              "      <td>Other servicers</td>\n",
              "    </tr>\n",
              "    <tr>\n",
              "      <th>freq</th>\n",
              "      <td>184154</td>\n",
              "      <td>39100</td>\n",
              "      <td>276131</td>\n",
              "      <td>167670</td>\n",
              "      <td>282125</td>\n",
              "      <td>291451</td>\n",
              "      <td>43327</td>\n",
              "      <td>244923</td>\n",
              "      <td>2582</td>\n",
              "      <td>1</td>\n",
              "      <td>123404</td>\n",
              "      <td>187335</td>\n",
              "      <td>76943</td>\n",
              "      <td>64043</td>\n",
              "    </tr>\n",
              "  </tbody>\n",
              "</table>\n",
              "</div>\n",
              "      <button class=\"colab-df-convert\" onclick=\"convertToInteractive('df-7efa3614-20bd-4ecf-8066-6ba4d7c829c1')\"\n",
              "              title=\"Convert this dataframe to an interactive table.\"\n",
              "              style=\"display:none;\">\n",
              "        \n",
              "  <svg xmlns=\"http://www.w3.org/2000/svg\" height=\"24px\"viewBox=\"0 0 24 24\"\n",
              "       width=\"24px\">\n",
              "    <path d=\"M0 0h24v24H0V0z\" fill=\"none\"/>\n",
              "    <path d=\"M18.56 5.44l.94 2.06.94-2.06 2.06-.94-2.06-.94-.94-2.06-.94 2.06-2.06.94zm-11 1L8.5 8.5l.94-2.06 2.06-.94-2.06-.94L8.5 2.5l-.94 2.06-2.06.94zm10 10l.94 2.06.94-2.06 2.06-.94-2.06-.94-.94-2.06-.94 2.06-2.06.94z\"/><path d=\"M17.41 7.96l-1.37-1.37c-.4-.4-.92-.59-1.43-.59-.52 0-1.04.2-1.43.59L10.3 9.45l-7.72 7.72c-.78.78-.78 2.05 0 2.83L4 21.41c.39.39.9.59 1.41.59.51 0 1.02-.2 1.41-.59l7.78-7.78 2.81-2.81c.8-.78.8-2.07 0-2.86zM5.41 20L4 18.59l7.72-7.72 1.47 1.35L5.41 20z\"/>\n",
              "  </svg>\n",
              "      </button>\n",
              "      \n",
              "  <style>\n",
              "    .colab-df-container {\n",
              "      display:flex;\n",
              "      flex-wrap:wrap;\n",
              "      gap: 12px;\n",
              "    }\n",
              "\n",
              "    .colab-df-convert {\n",
              "      background-color: #E8F0FE;\n",
              "      border: none;\n",
              "      border-radius: 50%;\n",
              "      cursor: pointer;\n",
              "      display: none;\n",
              "      fill: #1967D2;\n",
              "      height: 32px;\n",
              "      padding: 0 0 0 0;\n",
              "      width: 32px;\n",
              "    }\n",
              "\n",
              "    .colab-df-convert:hover {\n",
              "      background-color: #E2EBFA;\n",
              "      box-shadow: 0px 1px 2px rgba(60, 64, 67, 0.3), 0px 1px 3px 1px rgba(60, 64, 67, 0.15);\n",
              "      fill: #174EA6;\n",
              "    }\n",
              "\n",
              "    [theme=dark] .colab-df-convert {\n",
              "      background-color: #3B4455;\n",
              "      fill: #D2E3FC;\n",
              "    }\n",
              "\n",
              "    [theme=dark] .colab-df-convert:hover {\n",
              "      background-color: #434B5C;\n",
              "      box-shadow: 0px 1px 3px 1px rgba(0, 0, 0, 0.15);\n",
              "      filter: drop-shadow(0px 1px 2px rgba(0, 0, 0, 0.3));\n",
              "      fill: #FFFFFF;\n",
              "    }\n",
              "  </style>\n",
              "\n",
              "      <script>\n",
              "        const buttonEl =\n",
              "          document.querySelector('#df-7efa3614-20bd-4ecf-8066-6ba4d7c829c1 button.colab-df-convert');\n",
              "        buttonEl.style.display =\n",
              "          google.colab.kernel.accessAllowed ? 'block' : 'none';\n",
              "\n",
              "        async function convertToInteractive(key) {\n",
              "          const element = document.querySelector('#df-7efa3614-20bd-4ecf-8066-6ba4d7c829c1');\n",
              "          const dataTable =\n",
              "            await google.colab.kernel.invokeFunction('convertToInteractive',\n",
              "                                                     [key], {});\n",
              "          if (!dataTable) return;\n",
              "\n",
              "          const docLinkHtml = 'Like what you see? Visit the ' +\n",
              "            '<a target=\"_blank\" href=https://colab.research.google.com/notebooks/data_table.ipynb>data table notebook</a>'\n",
              "            + ' to learn more about interactive tables.';\n",
              "          element.innerHTML = '';\n",
              "          dataTable['output_type'] = 'display_data';\n",
              "          await google.colab.output.renderOutput(dataTable, element);\n",
              "          const docLink = document.createElement('div');\n",
              "          docLink.innerHTML = docLinkHtml;\n",
              "          element.appendChild(docLink);\n",
              "        }\n",
              "      </script>\n",
              "    </div>\n",
              "  </div>\n",
              "  "
            ]
          },
          "metadata": {},
          "execution_count": 707
        }
      ]
    },
    {
      "cell_type": "markdown",
      "source": [
        "\n",
        "#As msa is market service agremment we can think this as whether it has been taken or not \n",
        "#if taken(yes or else no),so here we can Replace X With no and remaining all columns with yes"
      ],
      "metadata": {
        "id": "YqHJ5_tqk41e"
      }
    },
    {
      "cell_type": "code",
      "source": [
        "\n",
        "#As msa is market service agremment we can think this as whether it has been taken or not \n",
        "#if taken(yes or else no),so here we can Replace X With no and remaining all columns with yes\n",
        "loan_export[\"MSA\"]=loan_export[\"MSA\"].replace(to_replace=\"X\",value=\"No\",regex=True)\n",
        "\n",
        "\n",
        "\n",
        "  "
      ],
      "metadata": {
        "id": "2SEEbB9qPSPg"
      },
      "execution_count": 708,
      "outputs": []
    },
    {
      "cell_type": "code",
      "source": [
        "loan_export[\"MSA\"] = np.where(loan_export[\"MSA\"].str.contains(\"No\"), 1, 0)"
      ],
      "metadata": {
        "id": "A-HkwQx7VdZE"
      },
      "execution_count": 709,
      "outputs": []
    },
    {
      "cell_type": "code",
      "source": [
        "loan_export[\"MSA\"].value_counts()"
      ],
      "metadata": {
        "colab": {
          "base_uri": "https://localhost:8080/"
        },
        "id": "St0dZl4gT7--",
        "outputId": "07883f63-d4f3-4d07-9597-b8a82718bc58"
      },
      "execution_count": 710,
      "outputs": [
        {
          "output_type": "execute_result",
          "data": {
            "text/plain": [
              "0    252351\n",
              "1     39100\n",
              "Name: MSA, dtype: int64"
            ]
          },
          "metadata": {},
          "execution_count": 710
        }
      ]
    },
    {
      "cell_type": "markdown",
      "source": [
        "first time home buyer can only be yes or no,but we are having a third one as X-which may be whether they are deciding to buy a home for first time.So,this might come under category of yes.As firsttime home buyer gets a extra benefit for down payment and it would lead investor learning more so i am categoresing it into yes category."
      ],
      "metadata": {
        "id": "TsD_nHHolMcb"
      }
    },
    {
      "cell_type": "code",
      "source": [
        "from numpy.core.fromnumeric import sort\n",
        "valuecounts(\"FirstTimeHomebuyer\")\n",
        "\n"
      ],
      "metadata": {
        "colab": {
          "base_uri": "https://localhost:8080/"
        },
        "id": "g_xbZF32nRzo",
        "outputId": "cf6860e0-ed18-45c7-a6e0-ce13c68a9280"
      },
      "execution_count": 711,
      "outputs": [
        {
          "output_type": "stream",
          "name": "stdout",
          "text": [
            "N    184154\n",
            "X     78015\n",
            "Y     29282\n",
            "Name: FirstTimeHomebuyer, dtype: int64\n"
          ]
        }
      ]
    },
    {
      "cell_type": "code",
      "source": [
        "loan_export[\"FirstTimeHomebuyer\"]=loan_export[\"FirstTimeHomebuyer\"].replace(to_replace=\"X\",value=\"Y\",regex=True)"
      ],
      "metadata": {
        "id": "ON0_McAeXDqO"
      },
      "execution_count": 712,
      "outputs": []
    },
    {
      "cell_type": "code",
      "source": [
        "valuecounts(\"FirstTimeHomebuyer\")"
      ],
      "metadata": {
        "colab": {
          "base_uri": "https://localhost:8080/"
        },
        "id": "rvGyiOCXolOy",
        "outputId": "00596a87-8564-47ef-c81e-0198e6749002"
      },
      "execution_count": 713,
      "outputs": [
        {
          "output_type": "stream",
          "name": "stdout",
          "text": [
            "N    184154\n",
            "Y    107297\n",
            "Name: FirstTimeHomebuyer, dtype: int64\n"
          ]
        }
      ]
    },
    {
      "cell_type": "markdown",
      "source": [
        "Occupancy type is important because it indicates to a lender the lengths to which a borrower will go before they give up making payments on their mortgage.\n",
        "\n",
        "To understand this, imagine you own two properties, each with their own mortgage.\n",
        "\n",
        "One property is your home, where your spouse or kids live, or where you spend most of your time. This is your principal residence. The other property is a duplex that you rent out. This is your investment property.\n",
        "\n",
        "Now, imagine you faced a significant financial hardship, and you could only afford to keep making payments on one of your two mortgages.\n",
        "0-own house(one-to-four unit family home)\n",
        "S-secondary(vaccation home)\n",
        "I-investmet house(most important)"
      ],
      "metadata": {
        "id": "gQgbG3vfqbmu"
      }
    },
    {
      "cell_type": "code",
      "source": [
        "valuecounts(\"Occupancy\")"
      ],
      "metadata": {
        "colab": {
          "base_uri": "https://localhost:8080/"
        },
        "id": "K8HpVQUlo0Ck",
        "outputId": "2a9f98f3-c5b5-4987-94aa-a68418209779"
      },
      "execution_count": 714,
      "outputs": [
        {
          "output_type": "stream",
          "name": "stdout",
          "text": [
            "O    276131\n",
            "I      8734\n",
            "S      6586\n",
            "Name: Occupancy, dtype: int64\n"
          ]
        }
      ]
    },
    {
      "cell_type": "code",
      "source": [
        "loan_export[\"Occupancy\"]=loan_export[\"Occupancy\"].replace(to_replace=[\"O\",\"I\",\"S\"],value=[\"Own\",\"Secondary\",\"INVESTED\"],regex=True)"
      ],
      "metadata": {
        "id": "q3Xxet9vqoki"
      },
      "execution_count": 715,
      "outputs": []
    },
    {
      "cell_type": "code",
      "source": [
        "valuecounts(\"Occupancy\")"
      ],
      "metadata": {
        "colab": {
          "base_uri": "https://localhost:8080/"
        },
        "id": "WFHKhpP6rNKE",
        "outputId": "15a28b31-d612-4674-90cf-3e6b777e6564"
      },
      "execution_count": 716,
      "outputs": [
        {
          "output_type": "stream",
          "name": "stdout",
          "text": [
            "Own          276131\n",
            "Secondary      8734\n",
            "INVESTED       6586\n",
            "Name: Occupancy, dtype: int64\n"
          ]
        }
      ]
    },
    {
      "cell_type": "markdown",
      "source": [
        "Channel"
      ],
      "metadata": {
        "id": "JEPOh9Xdt7an"
      }
    },
    {
      "cell_type": "code",
      "source": [
        "valuecounts(\"Channel\")#Chattel Mortgage,Traditional Mortgage,Retail banking,CORRESPONDENT lender\n",
        "loan_export[\"Channel\"]=loan_export[\"Channel\"].replace(to_replace=[\"T\",\"R\",\"C\",\"B\"],value=[\"Traditional Mortgage\",\"Retail banking\",\"Retail banking\",\"Retail banking\"],regex=True)\n"
      ],
      "metadata": {
        "colab": {
          "base_uri": "https://localhost:8080/"
        },
        "id": "hM7Cg1vTsij3",
        "outputId": "3275fe5d-057f-462d-b8fd-2d8642eea6a1"
      },
      "execution_count": 717,
      "outputs": [
        {
          "output_type": "stream",
          "name": "stdout",
          "text": [
            "T    167670\n",
            "R    123219\n",
            "C       407\n",
            "B       155\n",
            "Name: Channel, dtype: int64\n"
          ]
        }
      ]
    },
    {
      "cell_type": "code",
      "source": [
        "valuecounts(\"Channel\")"
      ],
      "metadata": {
        "colab": {
          "base_uri": "https://localhost:8080/"
        },
        "id": "nrT-Bbw3w1o1",
        "outputId": "90a7aed3-3935-49ac-9912-0d8bd9271db2"
      },
      "execution_count": 718,
      "outputs": [
        {
          "output_type": "stream",
          "name": "stdout",
          "text": [
            "Traditional Mortgage    167670\n",
            "Retail banking          123781\n",
            "Name: Channel, dtype: int64\n"
          ]
        }
      ]
    },
    {
      "cell_type": "markdown",
      "source": [
        "PPM-prepayment penalty mortgage\n",
        "Prepayment penalties are written into mortgage contracts by lenders to compensate for prepayment risk, particularly in difficult economic climates and under circumstances where the incentive for a borrower to refinance a subprime mortgage is high. These penalties don’t only kick in when a borrower pays off the entire loan. Some penalty provisions go into effect if the borrower pays a large portion of the loan balance in a single payment."
      ],
      "metadata": {
        "id": "7icKFC-wxqZ1"
      }
    },
    {
      "cell_type": "code",
      "source": [
        "valuecounts(\"PPM\")"
      ],
      "metadata": {
        "colab": {
          "base_uri": "https://localhost:8080/"
        },
        "id": "tV1K12-k3fMC",
        "outputId": "4337234e-0065-4f25-cfb4-b416eff69afb"
      },
      "execution_count": 719,
      "outputs": [
        {
          "output_type": "stream",
          "name": "stdout",
          "text": [
            "N    282125\n",
            "X      5405\n",
            "Y      3921\n",
            "Name: PPM, dtype: int64\n"
          ]
        }
      ]
    },
    {
      "cell_type": "code",
      "source": [
        "import seaborn as sns"
      ],
      "metadata": {
        "id": "xtuq1z9_VRP7"
      },
      "execution_count": 720,
      "outputs": []
    },
    {
      "cell_type": "code",
      "source": [
        "sns.distplot(loan_export[\"CreditScore\"])"
      ],
      "metadata": {
        "colab": {
          "base_uri": "https://localhost:8080/",
          "height": 353
        },
        "id": "tQBF2TqnVVWR",
        "outputId": "2f56a1c4-c419-49b9-e3ba-feda4253261c"
      },
      "execution_count": 721,
      "outputs": [
        {
          "output_type": "stream",
          "name": "stderr",
          "text": [
            "/usr/local/lib/python3.8/dist-packages/seaborn/distributions.py:2619: FutureWarning: `distplot` is a deprecated function and will be removed in a future version. Please adapt your code to use either `displot` (a figure-level function with similar flexibility) or `histplot` (an axes-level function for histograms).\n",
            "  warnings.warn(msg, FutureWarning)\n"
          ]
        },
        {
          "output_type": "execute_result",
          "data": {
            "text/plain": [
              "<matplotlib.axes._subplots.AxesSubplot at 0x7f97c9696640>"
            ]
          },
          "metadata": {},
          "execution_count": 721
        },
        {
          "output_type": "display_data",
          "data": {
            "text/plain": [
              "<Figure size 432x288 with 1 Axes>"
            ],
            "image/png": "[encoded data removed]"
          },
          "metadata": {
            "needs_background": "light"
          }
        }
      ]
    },
    {
      "cell_type": "code",
      "source": [
        "loan_export.describe()"
      ],
      "metadata": {
        "colab": {
          "base_uri": "https://localhost:8080/",
          "height": 364
        },
        "id": "ZCj9gRvzVyka",
        "outputId": "c9dc85b4-b21d-4a35-fdd7-94b65bc0914b"
      },
      "execution_count": 722,
      "outputs": [
        {
          "output_type": "execute_result",
          "data": {
            "text/plain": [
              "         CreditScore  FirstPaymentDate   MaturityDate            MSA  \\\n",
              "count  291451.000000     291451.000000  291451.000000  291451.000000   \n",
              "mean      708.936991     199904.760553  202902.367043       0.134156   \n",
              "std        68.408791         13.821228      16.090508       0.340821   \n",
              "min         0.000000     199901.000000  202402.000000       0.000000   \n",
              "25%       675.000000     199903.000000  202902.000000       0.000000   \n",
              "50%       717.000000     199904.000000  202903.000000       0.000000   \n",
              "75%       753.000000     199905.000000  202904.000000       0.000000   \n",
              "max       849.000000     201303.000000  204302.000000       1.000000   \n",
              "\n",
              "                 MIP          Units          OCLTV            DTI  \\\n",
              "count  291451.000000  291451.000000  291451.000000  291451.000000   \n",
              "mean        9.216685       1.026022      76.960529      30.033453   \n",
              "std        12.648273       0.202986      15.236154      13.203974   \n",
              "min         0.000000       0.000000       0.000000       0.000000   \n",
              "25%         0.000000       1.000000      70.000000      22.000000   \n",
              "50%         0.000000       1.000000      80.000000      31.000000   \n",
              "75%        25.000000       1.000000      90.000000      39.000000   \n",
              "max        55.000000       4.000000     110.000000      65.000000   \n",
              "\n",
              "             OrigUPB            LTV  OrigInterestRate   OrigLoanTerm  \\\n",
              "count  291451.000000  291451.000000     291451.000000  291451.000000   \n",
              "mean   124940.387921      76.937986          6.926547     359.835375   \n",
              "std     53657.440624      15.225298          0.343541       2.286939   \n",
              "min      8000.000000       0.000000          4.000000     301.000000   \n",
              "25%     83000.000000      70.000000          6.750000     360.000000   \n",
              "50%    117000.000000      80.000000          6.875000     360.000000   \n",
              "75%    160000.000000      90.000000          7.125000     360.000000   \n",
              "max    497000.000000     103.000000         12.350000     361.000000   \n",
              "\n",
              "       EverDelinquent  MonthsDelinquent  MonthsInRepayment  \n",
              "count   291451.000000     291451.000000      291451.000000  \n",
              "mean         0.197848          1.837729          60.805291  \n",
              "std          0.398378          8.809392          46.142599  \n",
              "min          0.000000          0.000000           1.000000  \n",
              "25%          0.000000          0.000000          34.000000  \n",
              "50%          0.000000          0.000000          48.000000  \n",
              "75%          0.000000          0.000000          63.000000  \n",
              "max          1.000000        180.000000         212.000000  "
            ],
            "text/html": [
              "\n",
              "  <div id=\"df-7519d6fa-9064-4cb5-86c7-7cdee0b31989\">\n",
              "    <div class=\"colab-df-container\">\n",
              "      <div>\n",
              "<style scoped>\n",
              "    .dataframe tbody tr th:only-of-type {\n",
              "        vertical-align: middle;\n",
              "    }\n",
              "\n",
              "    .dataframe tbody tr th {\n",
              "        vertical-align: top;\n",
              "    }\n",
              "\n",
              "    .dataframe thead th {\n",
              "        text-align: right;\n",
              "    }\n",
              "</style>\n",
              "<table border=\"1\" class=\"dataframe\">\n",
              "  <thead>\n",
              "    <tr style=\"text-align: right;\">\n",
              "      <th></th>\n",
              "      <th>CreditScore</th>\n",
              "      <th>FirstPaymentDate</th>\n",
              "      <th>MaturityDate</th>\n",
              "      <th>MSA</th>\n",
              "      <th>MIP</th>\n",
              "      <th>Units</th>\n",
              "      <th>OCLTV</th>\n",
              "      <th>DTI</th>\n",
              "      <th>OrigUPB</th>\n",
              "      <th>LTV</th>\n",
              "      <th>OrigInterestRate</th>\n",
              "      <th>OrigLoanTerm</th>\n",
              "      <th>EverDelinquent</th>\n",
              "      <th>MonthsDelinquent</th>\n",
              "      <th>MonthsInRepayment</th>\n",
              "    </tr>\n",
              "  </thead>\n",
              "  <tbody>\n",
              "    <tr>\n",
              "      <th>count</th>\n",
              "      <td>291451.000000</td>\n",
              "      <td>291451.000000</td>\n",
              "      <td>291451.000000</td>\n",
              "      <td>291451.000000</td>\n",
              "      <td>291451.000000</td>\n",
              "      <td>291451.000000</td>\n",
              "      <td>291451.000000</td>\n",
              "      <td>291451.000000</td>\n",
              "      <td>291451.000000</td>\n",
              "      <td>291451.000000</td>\n",
              "      <td>291451.000000</td>\n",
              "      <td>291451.000000</td>\n",
              "      <td>291451.000000</td>\n",
              "      <td>291451.000000</td>\n",
              "      <td>291451.000000</td>\n",
              "    </tr>\n",
              "    <tr>\n",
              "      <th>mean</th>\n",
              "      <td>708.936991</td>\n",
              "      <td>199904.760553</td>\n",
              "      <td>202902.367043</td>\n",
              "      <td>0.134156</td>\n",
              "      <td>9.216685</td>\n",
              "      <td>1.026022</td>\n",
              "      <td>76.960529</td>\n",
              "      <td>30.033453</td>\n",
              "      <td>124940.387921</td>\n",
              "      <td>76.937986</td>\n",
              "      <td>6.926547</td>\n",
              "      <td>359.835375</td>\n",
              "      <td>0.197848</td>\n",
              "      <td>1.837729</td>\n",
              "      <td>60.805291</td>\n",
              "    </tr>\n",
              "    <tr>\n",
              "      <th>std</th>\n",
              "      <td>68.408791</td>\n",
              "      <td>13.821228</td>\n",
              "      <td>16.090508</td>\n",
              "      <td>0.340821</td>\n",
              "      <td>12.648273</td>\n",
              "      <td>0.202986</td>\n",
              "      <td>15.236154</td>\n",
              "      <td>13.203974</td>\n",
              "      <td>53657.440624</td>\n",
              "      <td>15.225298</td>\n",
              "      <td>0.343541</td>\n",
              "      <td>2.286939</td>\n",
              "      <td>0.398378</td>\n",
              "      <td>8.809392</td>\n",
              "      <td>46.142599</td>\n",
              "    </tr>\n",
              "    <tr>\n",
              "      <th>min</th>\n",
              "      <td>0.000000</td>\n",
              "      <td>199901.000000</td>\n",
              "      <td>202402.000000</td>\n",
              "      <td>0.000000</td>\n",
              "      <td>0.000000</td>\n",
              "      <td>0.000000</td>\n",
              "      <td>0.000000</td>\n",
              "      <td>0.000000</td>\n",
              "      <td>8000.000000</td>\n",
              "      <td>0.000000</td>\n",
              "      <td>4.000000</td>\n",
              "      <td>301.000000</td>\n",
              "      <td>0.000000</td>\n",
              "      <td>0.000000</td>\n",
              "      <td>1.000000</td>\n",
              "    </tr>\n",
              "    <tr>\n",
              "      <th>25%</th>\n",
              "      <td>675.000000</td>\n",
              "      <td>199903.000000</td>\n",
              "      <td>202902.000000</td>\n",
              "      <td>0.000000</td>\n",
              "      <td>0.000000</td>\n",
              "      <td>1.000000</td>\n",
              "      <td>70.000000</td>\n",
              "      <td>22.000000</td>\n",
              "      <td>83000.000000</td>\n",
              "      <td>70.000000</td>\n",
              "      <td>6.750000</td>\n",
              "      <td>360.000000</td>\n",
              "      <td>0.000000</td>\n",
              "      <td>0.000000</td>\n",
              "      <td>34.000000</td>\n",
              "    </tr>\n",
              "    <tr>\n",
              "      <th>50%</th>\n",
              "      <td>717.000000</td>\n",
              "      <td>199904.000000</td>\n",
              "      <td>202903.000000</td>\n",
              "      <td>0.000000</td>\n",
              "      <td>0.000000</td>\n",
              "      <td>1.000000</td>\n",
              "      <td>80.000000</td>\n",
              "      <td>31.000000</td>\n",
              "      <td>117000.000000</td>\n",
              "      <td>80.000000</td>\n",
              "      <td>6.875000</td>\n",
              "      <td>360.000000</td>\n",
              "      <td>0.000000</td>\n",
              "      <td>0.000000</td>\n",
              "      <td>48.000000</td>\n",
              "    </tr>\n",
              "    <tr>\n",
              "      <th>75%</th>\n",
              "      <td>753.000000</td>\n",
              "      <td>199905.000000</td>\n",
              "      <td>202904.000000</td>\n",
              "      <td>0.000000</td>\n",
              "      <td>25.000000</td>\n",
              "      <td>1.000000</td>\n",
              "      <td>90.000000</td>\n",
              "      <td>39.000000</td>\n",
              "      <td>160000.000000</td>\n",
              "      <td>90.000000</td>\n",
              "      <td>7.125000</td>\n",
              "      <td>360.000000</td>\n",
              "      <td>0.000000</td>\n",
              "      <td>0.000000</td>\n",
              "      <td>63.000000</td>\n",
              "    </tr>\n",
              "    <tr>\n",
              "      <th>max</th>\n",
              "      <td>849.000000</td>\n",
              "      <td>201303.000000</td>\n",
              "      <td>204302.000000</td>\n",
              "      <td>1.000000</td>\n",
              "      <td>55.000000</td>\n",
              "      <td>4.000000</td>\n",
              "      <td>110.000000</td>\n",
              "      <td>65.000000</td>\n",
              "      <td>497000.000000</td>\n",
              "      <td>103.000000</td>\n",
              "      <td>12.350000</td>\n",
              "      <td>361.000000</td>\n",
              "      <td>1.000000</td>\n",
              "      <td>180.000000</td>\n",
              "      <td>212.000000</td>\n",
              "    </tr>\n",
              "  </tbody>\n",
              "</table>\n",
              "</div>\n",
              "      <button class=\"colab-df-convert\" onclick=\"convertToInteractive('df-7519d6fa-9064-4cb5-86c7-7cdee0b31989')\"\n",
              "              title=\"Convert this dataframe to an interactive table.\"\n",
              "              style=\"display:none;\">\n",
              "        \n",
              "  <svg xmlns=\"http://www.w3.org/2000/svg\" height=\"24px\"viewBox=\"0 0 24 24\"\n",
              "       width=\"24px\">\n",
              "    <path d=\"M0 0h24v24H0V0z\" fill=\"none\"/>\n",
              "    <path d=\"M18.56 5.44l.94 2.06.94-2.06 2.06-.94-2.06-.94-.94-2.06-.94 2.06-2.06.94zm-11 1L8.5 8.5l.94-2.06 2.06-.94-2.06-.94L8.5 2.5l-.94 2.06-2.06.94zm10 10l.94 2.06.94-2.06 2.06-.94-2.06-.94-.94-2.06-.94 2.06-2.06.94z\"/><path d=\"M17.41 7.96l-1.37-1.37c-.4-.4-.92-.59-1.43-.59-.52 0-1.04.2-1.43.59L10.3 9.45l-7.72 7.72c-.78.78-.78 2.05 0 2.83L4 21.41c.39.39.9.59 1.41.59.51 0 1.02-.2 1.41-.59l7.78-7.78 2.81-2.81c.8-.78.8-2.07 0-2.86zM5.41 20L4 18.59l7.72-7.72 1.47 1.35L5.41 20z\"/>\n",
              "  </svg>\n",
              "      </button>\n",
              "      \n",
              "  <style>\n",
              "    .colab-df-container {\n",
              "      display:flex;\n",
              "      flex-wrap:wrap;\n",
              "      gap: 12px;\n",
              "    }\n",
              "\n",
              "    .colab-df-convert {\n",
              "      background-color: #E8F0FE;\n",
              "      border: none;\n",
              "      border-radius: 50%;\n",
              "      cursor: pointer;\n",
              "      display: none;\n",
              "      fill: #1967D2;\n",
              "      height: 32px;\n",
              "      padding: 0 0 0 0;\n",
              "      width: 32px;\n",
              "    }\n",
              "\n",
              "    .colab-df-convert:hover {\n",
              "      background-color: #E2EBFA;\n",
              "      box-shadow: 0px 1px 2px rgba(60, 64, 67, 0.3), 0px 1px 3px 1px rgba(60, 64, 67, 0.15);\n",
              "      fill: #174EA6;\n",
              "    }\n",
              "\n",
              "    [theme=dark] .colab-df-convert {\n",
              "      background-color: #3B4455;\n",
              "      fill: #D2E3FC;\n",
              "    }\n",
              "\n",
              "    [theme=dark] .colab-df-convert:hover {\n",
              "      background-color: #434B5C;\n",
              "      box-shadow: 0px 1px 3px 1px rgba(0, 0, 0, 0.15);\n",
              "      filter: drop-shadow(0px 1px 2px rgba(0, 0, 0, 0.3));\n",
              "      fill: #FFFFFF;\n",
              "    }\n",
              "  </style>\n",
              "\n",
              "      <script>\n",
              "        const buttonEl =\n",
              "          document.querySelector('#df-7519d6fa-9064-4cb5-86c7-7cdee0b31989 button.colab-df-convert');\n",
              "        buttonEl.style.display =\n",
              "          google.colab.kernel.accessAllowed ? 'block' : 'none';\n",
              "\n",
              "        async function convertToInteractive(key) {\n",
              "          const element = document.querySelector('#df-7519d6fa-9064-4cb5-86c7-7cdee0b31989');\n",
              "          const dataTable =\n",
              "            await google.colab.kernel.invokeFunction('convertToInteractive',\n",
              "                                                     [key], {});\n",
              "          if (!dataTable) return;\n",
              "\n",
              "          const docLinkHtml = 'Like what you see? Visit the ' +\n",
              "            '<a target=\"_blank\" href=https://colab.research.google.com/notebooks/data_table.ipynb>data table notebook</a>'\n",
              "            + ' to learn more about interactive tables.';\n",
              "          element.innerHTML = '';\n",
              "          dataTable['output_type'] = 'display_data';\n",
              "          await google.colab.output.renderOutput(dataTable, element);\n",
              "          const docLink = document.createElement('div');\n",
              "          docLink.innerHTML = docLinkHtml;\n",
              "          element.appendChild(docLink);\n",
              "        }\n",
              "      </script>\n",
              "    </div>\n",
              "  </div>\n",
              "  "
            ]
          },
          "metadata": {},
          "execution_count": 722
        }
      ]
    },
    {
      "cell_type": "code",
      "source": [
        "valuecounts('LoanPurpose')"
      ],
      "metadata": {
        "colab": {
          "base_uri": "https://localhost:8080/"
        },
        "id": "kAd6FhmUvQfS",
        "outputId": "6a86abc7-cf7b-45a2-806d-e8408432bc98"
      },
      "execution_count": 723,
      "outputs": [
        {
          "output_type": "stream",
          "name": "stdout",
          "text": [
            "P    123404\n",
            "N    110036\n",
            "C     58011\n",
            "Name: LoanPurpose, dtype: int64\n"
          ]
        }
      ]
    },
    {
      "cell_type": "code",
      "source": [
        "valuecounts('NumBorrowers')"
      ],
      "metadata": {
        "colab": {
          "base_uri": "https://localhost:8080/"
        },
        "id": "jBJDx2nKvQR-",
        "outputId": "8df4ab25-0e9c-4465-b140-ed32be5c04cc"
      },
      "execution_count": 724,
      "outputs": [
        {
          "output_type": "stream",
          "name": "stdout",
          "text": [
            "2     187335\n",
            "1     103777\n",
            "X        339\n",
            "Name: NumBorrowers, dtype: int64\n"
          ]
        }
      ]
    },
    {
      "cell_type": "code",
      "source": [
        "numericalcolumns"
      ],
      "metadata": {
        "colab": {
          "base_uri": "https://localhost:8080/"
        },
        "id": "3ZhP63Uteftk",
        "outputId": "7b7d09ab-d774-4c2f-cc0a-7211f1e511ed"
      },
      "execution_count": 725,
      "outputs": [
        {
          "output_type": "execute_result",
          "data": {
            "text/plain": [
              "['CreditScore',\n",
              " 'FirstPaymentDate',\n",
              " 'MaturityDate',\n",
              " 'MIP',\n",
              " 'Units',\n",
              " 'OCLTV',\n",
              " 'DTI',\n",
              " 'OrigUPB',\n",
              " 'LTV',\n",
              " 'OrigInterestRate',\n",
              " 'OrigLoanTerm',\n",
              " 'EverDelinquent',\n",
              " 'MonthsDelinquent',\n",
              " 'MonthsInRepayment']"
            ]
          },
          "metadata": {},
          "execution_count": 725
        }
      ]
    },
    {
      "cell_type": "markdown",
      "source": [
        " 'ProductType',\n",
        " 'PropertyState',\n",
        " 'PropertyType',\n",
        " 'PostalCode',\n",
        " 'LoanSeqNum',\n",
        " 'LoanPurpose',\n",
        " 'NumBorrowers',\n",
        " 'SellerName',\n",
        " 'ServicerName'"
      ],
      "metadata": {
        "id": "0x-YTIlCXp_P"
      }
    },
    {
      "cell_type": "code",
      "source": [
        "loan_export2=loan_export.drop(['ProductType', 'PropertyState', 'PropertyType', 'PostalCode', 'LoanSeqNum', 'SellerName', 'ServicerName',\"MSA\", 'FirstPaymentDate','MaturityDate','LTV','Channel'],axis=1)"
      ],
      "metadata": {
        "id": "HrJHsZ59c9wa"
      },
      "execution_count": 726,
      "outputs": []
    },
    {
      "cell_type": "code",
      "source": [
        "loan_export2.columns"
      ],
      "metadata": {
        "colab": {
          "base_uri": "https://localhost:8080/"
        },
        "id": "pkUMdeNGez7Z",
        "outputId": "b8130a55-9622-4d54-8ed6-96c0275628ec"
      },
      "execution_count": 727,
      "outputs": [
        {
          "output_type": "execute_result",
          "data": {
            "text/plain": [
              "Index(['CreditScore', 'FirstTimeHomebuyer', 'MIP', 'Units', 'Occupancy',\n",
              "       'OCLTV', 'DTI', 'OrigUPB', 'OrigInterestRate', 'PPM', 'LoanPurpose',\n",
              "       'OrigLoanTerm', 'NumBorrowers', 'EverDelinquent', 'MonthsDelinquent',\n",
              "       'MonthsInRepayment'],\n",
              "      dtype='object')"
            ]
          },
          "metadata": {},
          "execution_count": 727
        }
      ]
    },
    {
      "cell_type": "code",
      "source": [
        "loan_export2[\"OrigUPB\"].describe()"
      ],
      "metadata": {
        "colab": {
          "base_uri": "https://localhost:8080/"
        },
        "id": "D5UUdx6whL-J",
        "outputId": "a1c1aa7a-da67-4cb6-d836-4f13d1498dee"
      },
      "execution_count": 728,
      "outputs": [
        {
          "output_type": "execute_result",
          "data": {
            "text/plain": [
              "count    291451.000000\n",
              "mean     124940.387921\n",
              "std       53657.440624\n",
              "min        8000.000000\n",
              "25%       83000.000000\n",
              "50%      117000.000000\n",
              "75%      160000.000000\n",
              "max      497000.000000\n",
              "Name: OrigUPB, dtype: float64"
            ]
          },
          "metadata": {},
          "execution_count": 728
        }
      ]
    },
    {
      "cell_type": "code",
      "source": [
        "sns.distplot(loan_export2[\"OrigUPB\"])"
      ],
      "metadata": {
        "colab": {
          "base_uri": "https://localhost:8080/",
          "height": 364
        },
        "id": "Hg1E4KIhhZOO",
        "outputId": "684b5b54-ce56-4ab7-da6f-4520b39429af"
      },
      "execution_count": 729,
      "outputs": [
        {
          "output_type": "stream",
          "name": "stderr",
          "text": [
            "/usr/local/lib/python3.8/dist-packages/seaborn/distributions.py:2619: FutureWarning: `distplot` is a deprecated function and will be removed in a future version. Please adapt your code to use either `displot` (a figure-level function with similar flexibility) or `histplot` (an axes-level function for histograms).\n",
            "  warnings.warn(msg, FutureWarning)\n"
          ]
        },
        {
          "output_type": "execute_result",
          "data": {
            "text/plain": [
              "<matplotlib.axes._subplots.AxesSubplot at 0x7f97c87cfeb0>"
            ]
          },
          "metadata": {},
          "execution_count": 729
        },
        {
          "output_type": "display_data",
          "data": {
            "text/plain": [
              "<Figure size 432x288 with 1 Axes>"
            ],
            "image/png": "[encoded data removed]"
          },
          "metadata": {
            "needs_background": "light"
          }
        }
      ]
    },
    {
      "cell_type": "code",
      "source": [
        "loan_export2[\"OrigUPB\"].head(15)"
      ],
      "metadata": {
        "colab": {
          "base_uri": "https://localhost:8080/"
        },
        "id": "MdVDq_ZyhhD9",
        "outputId": "2aa3e825-8e50-429d-ff5a-46a324a4ef78"
      },
      "execution_count": 730,
      "outputs": [
        {
          "output_type": "execute_result",
          "data": {
            "text/plain": [
              "0     117000\n",
              "1     109000\n",
              "2      88000\n",
              "3     160000\n",
              "4     109000\n",
              "5     207000\n",
              "6     111000\n",
              "7      97000\n",
              "8      55000\n",
              "9      35000\n",
              "10    126000\n",
              "11    200000\n",
              "12     70000\n",
              "13     93000\n",
              "14     79000\n",
              "Name: OrigUPB, dtype: int64"
            ]
          },
          "metadata": {},
          "execution_count": 730
        }
      ]
    },
    {
      "cell_type": "code",
      "source": [
        "loan_export2[\"OrigUPB\"]=loan_export2[\"OrigUPB\"].replace({0:117000})"
      ],
      "metadata": {
        "id": "JsIi1klXiQoJ"
      },
      "execution_count": 731,
      "outputs": []
    },
    {
      "cell_type": "code",
      "source": [
        "loan_export2[\"OrigUPB\"].describe()"
      ],
      "metadata": {
        "colab": {
          "base_uri": "https://localhost:8080/"
        },
        "id": "rujGJDDxin0T",
        "outputId": "745af31c-1525-489d-8eef-f47202e71a05"
      },
      "execution_count": 732,
      "outputs": [
        {
          "output_type": "execute_result",
          "data": {
            "text/plain": [
              "count    291451.000000\n",
              "mean     124940.387921\n",
              "std       53657.440624\n",
              "min        8000.000000\n",
              "25%       83000.000000\n",
              "50%      117000.000000\n",
              "75%      160000.000000\n",
              "max      497000.000000\n",
              "Name: OrigUPB, dtype: float64"
            ]
          },
          "metadata": {},
          "execution_count": 732
        }
      ]
    },
    {
      "cell_type": "code",
      "source": [
        "#creditscore"
      ],
      "metadata": {
        "id": "r9cYGz4Tkjyq"
      },
      "execution_count": 733,
      "outputs": []
    },
    {
      "cell_type": "code",
      "source": [
        "sns.distplot(loan_export2[\"CreditScore\"])"
      ],
      "metadata": {
        "colab": {
          "base_uri": "https://localhost:8080/",
          "height": 353
        },
        "id": "XZy6IKBZn03d",
        "outputId": "5d42612c-4d98-45aa-8f76-f381e0e67e54"
      },
      "execution_count": 734,
      "outputs": [
        {
          "output_type": "stream",
          "name": "stderr",
          "text": [
            "/usr/local/lib/python3.8/dist-packages/seaborn/distributions.py:2619: FutureWarning: `distplot` is a deprecated function and will be removed in a future version. Please adapt your code to use either `displot` (a figure-level function with similar flexibility) or `histplot` (an axes-level function for histograms).\n",
            "  warnings.warn(msg, FutureWarning)\n"
          ]
        },
        {
          "output_type": "execute_result",
          "data": {
            "text/plain": [
              "<matplotlib.axes._subplots.AxesSubplot at 0x7f97c86940a0>"
            ]
          },
          "metadata": {},
          "execution_count": 734
        },
        {
          "output_type": "display_data",
          "data": {
            "text/plain": [
              "<Figure size 432x288 with 1 Axes>"
            ],
            "image/png": "[encoded data removed]"
          },
          "metadata": {
            "needs_background": "light"
          }
        }
      ]
    },
    {
      "cell_type": "code",
      "source": [
        "loan_export2[\"CreditScore\"].describe()"
      ],
      "metadata": {
        "colab": {
          "base_uri": "https://localhost:8080/"
        },
        "id": "moLle-sykp6N",
        "outputId": "d9baf693-6b53-470f-caf3-9b1b6cef5e89"
      },
      "execution_count": 735,
      "outputs": [
        {
          "output_type": "execute_result",
          "data": {
            "text/plain": [
              "count    291451.000000\n",
              "mean        708.936991\n",
              "std          68.408791\n",
              "min           0.000000\n",
              "25%         675.000000\n",
              "50%         717.000000\n",
              "75%         753.000000\n",
              "max         849.000000\n",
              "Name: CreditScore, dtype: float64"
            ]
          },
          "metadata": {},
          "execution_count": 735
        }
      ]
    },
    {
      "cell_type": "code",
      "source": [
        "\n",
        "loan_export2['CreditScore'] =loan_export2['CreditScore'].replace({0:710})#average of all credit scores\n"
      ],
      "metadata": {
        "id": "AmCO10G2lfZz"
      },
      "execution_count": 736,
      "outputs": []
    },
    {
      "cell_type": "code",
      "source": [
        "loan_export2.CreditScore.describe()\n",
        "bins=[300,600,700,760,850,900]\n",
        "groups=['verypoor','poor','fair','good','exceptional']\n",
        "loan_export2[\"CreditScore_ranges\"] = pd.cut(loan_export2[\"CreditScore\"],bins=bins,labels=groups)\n",
        "loan_export2[[\"CreditScore_ranges\",\"CreditScore\"]].head()"
      ],
      "metadata": {
        "colab": {
          "base_uri": "https://localhost:8080/",
          "height": 206
        },
        "id": "4PAynU9Kk3D6",
        "outputId": "f1f3138d-9922-4047-d109-63ac538c8d57"
      },
      "execution_count": 737,
      "outputs": [
        {
          "output_type": "execute_result",
          "data": {
            "text/plain": [
              "  CreditScore_ranges  CreditScore\n",
              "0               fair          710\n",
              "1               fair          710\n",
              "2               fair          710\n",
              "3               fair          710\n",
              "4               fair          710"
            ],
            "text/html": [
              "\n",
              "  <div id=\"df-19fe7b45-a824-41a6-ab34-1e7c43424401\">\n",
              "    <div class=\"colab-df-container\">\n",
              "      <div>\n",
              "<style scoped>\n",
              "    .dataframe tbody tr th:only-of-type {\n",
              "        vertical-align: middle;\n",
              "    }\n",
              "\n",
              "    .dataframe tbody tr th {\n",
              "        vertical-align: top;\n",
              "    }\n",
              "\n",
              "    .dataframe thead th {\n",
              "        text-align: right;\n",
              "    }\n",
              "</style>\n",
              "<table border=\"1\" class=\"dataframe\">\n",
              "  <thead>\n",
              "    <tr style=\"text-align: right;\">\n",
              "      <th></th>\n",
              "      <th>CreditScore_ranges</th>\n",
              "      <th>CreditScore</th>\n",
              "    </tr>\n",
              "  </thead>\n",
              "  <tbody>\n",
              "    <tr>\n",
              "      <th>0</th>\n",
              "      <td>fair</td>\n",
              "      <td>710</td>\n",
              "    </tr>\n",
              "    <tr>\n",
              "      <th>1</th>\n",
              "      <td>fair</td>\n",
              "      <td>710</td>\n",
              "    </tr>\n",
              "    <tr>\n",
              "      <th>2</th>\n",
              "      <td>fair</td>\n",
              "      <td>710</td>\n",
              "    </tr>\n",
              "    <tr>\n",
              "      <th>3</th>\n",
              "      <td>fair</td>\n",
              "      <td>710</td>\n",
              "    </tr>\n",
              "    <tr>\n",
              "      <th>4</th>\n",
              "      <td>fair</td>\n",
              "      <td>710</td>\n",
              "    </tr>\n",
              "  </tbody>\n",
              "</table>\n",
              "</div>\n",
              "      <button class=\"colab-df-convert\" onclick=\"convertToInteractive('df-19fe7b45-a824-41a6-ab34-1e7c43424401')\"\n",
              "              title=\"Convert this dataframe to an interactive table.\"\n",
              "              style=\"display:none;\">\n",
              "        \n",
              "  <svg xmlns=\"http://www.w3.org/2000/svg\" height=\"24px\"viewBox=\"0 0 24 24\"\n",
              "       width=\"24px\">\n",
              "    <path d=\"M0 0h24v24H0V0z\" fill=\"none\"/>\n",
              "    <path d=\"M18.56 5.44l.94 2.06.94-2.06 2.06-.94-2.06-.94-.94-2.06-.94 2.06-2.06.94zm-11 1L8.5 8.5l.94-2.06 2.06-.94-2.06-.94L8.5 2.5l-.94 2.06-2.06.94zm10 10l.94 2.06.94-2.06 2.06-.94-2.06-.94-.94-2.06-.94 2.06-2.06.94z\"/><path d=\"M17.41 7.96l-1.37-1.37c-.4-.4-.92-.59-1.43-.59-.52 0-1.04.2-1.43.59L10.3 9.45l-7.72 7.72c-.78.78-.78 2.05 0 2.83L4 21.41c.39.39.9.59 1.41.59.51 0 1.02-.2 1.41-.59l7.78-7.78 2.81-2.81c.8-.78.8-2.07 0-2.86zM5.41 20L4 18.59l7.72-7.72 1.47 1.35L5.41 20z\"/>\n",
              "  </svg>\n",
              "      </button>\n",
              "      \n",
              "  <style>\n",
              "    .colab-df-container {\n",
              "      display:flex;\n",
              "      flex-wrap:wrap;\n",
              "      gap: 12px;\n",
              "    }\n",
              "\n",
              "    .colab-df-convert {\n",
              "      background-color: #E8F0FE;\n",
              "      border: none;\n",
              "      border-radius: 50%;\n",
              "      cursor: pointer;\n",
              "      display: none;\n",
              "      fill: #1967D2;\n",
              "      height: 32px;\n",
              "      padding: 0 0 0 0;\n",
              "      width: 32px;\n",
              "    }\n",
              "\n",
              "    .colab-df-convert:hover {\n",
              "      background-color: #E2EBFA;\n",
              "      box-shadow: 0px 1px 2px rgba(60, 64, 67, 0.3), 0px 1px 3px 1px rgba(60, 64, 67, 0.15);\n",
              "      fill: #174EA6;\n",
              "    }\n",
              "\n",
              "    [theme=dark] .colab-df-convert {\n",
              "      background-color: #3B4455;\n",
              "      fill: #D2E3FC;\n",
              "    }\n",
              "\n",
              "    [theme=dark] .colab-df-convert:hover {\n",
              "      background-color: #434B5C;\n",
              "      box-shadow: 0px 1px 3px 1px rgba(0, 0, 0, 0.15);\n",
              "      filter: drop-shadow(0px 1px 2px rgba(0, 0, 0, 0.3));\n",
              "      fill: #FFFFFF;\n",
              "    }\n",
              "  </style>\n",
              "\n",
              "      <script>\n",
              "        const buttonEl =\n",
              "          document.querySelector('#df-19fe7b45-a824-41a6-ab34-1e7c43424401 button.colab-df-convert');\n",
              "        buttonEl.style.display =\n",
              "          google.colab.kernel.accessAllowed ? 'block' : 'none';\n",
              "\n",
              "        async function convertToInteractive(key) {\n",
              "          const element = document.querySelector('#df-19fe7b45-a824-41a6-ab34-1e7c43424401');\n",
              "          const dataTable =\n",
              "            await google.colab.kernel.invokeFunction('convertToInteractive',\n",
              "                                                     [key], {});\n",
              "          if (!dataTable) return;\n",
              "\n",
              "          const docLinkHtml = 'Like what you see? Visit the ' +\n",
              "            '<a target=\"_blank\" href=https://colab.research.google.com/notebooks/data_table.ipynb>data table notebook</a>'\n",
              "            + ' to learn more about interactive tables.';\n",
              "          element.innerHTML = '';\n",
              "          dataTable['output_type'] = 'display_data';\n",
              "          await google.colab.output.renderOutput(dataTable, element);\n",
              "          const docLink = document.createElement('div');\n",
              "          docLink.innerHTML = docLinkHtml;\n",
              "          element.appendChild(docLink);\n",
              "        }\n",
              "      </script>\n",
              "    </div>\n",
              "  </div>\n",
              "  "
            ]
          },
          "metadata": {},
          "execution_count": 737
        }
      ]
    },
    {
      "cell_type": "code",
      "source": [
        "loan_export2['CreditScore_ranges'].describe()"
      ],
      "metadata": {
        "colab": {
          "base_uri": "https://localhost:8080/"
        },
        "id": "7PLXLhBRmUtQ",
        "outputId": "6f215985-1704-40f5-831d-d4b48e31a913"
      },
      "execution_count": 738,
      "outputs": [
        {
          "output_type": "execute_result",
          "data": {
            "text/plain": [
              "count     291451\n",
              "unique         4\n",
              "top         fair\n",
              "freq      121548\n",
              "Name: CreditScore_ranges, dtype: object"
            ]
          },
          "metadata": {},
          "execution_count": 738
        }
      ]
    },
    {
      "cell_type": "code",
      "source": [
        "loan_export2=loan_export2.drop([\"CreditScore\"],axis=1)"
      ],
      "metadata": {
        "id": "hMMyzqqWnMBE"
      },
      "execution_count": 739,
      "outputs": []
    },
    {
      "cell_type": "code",
      "source": [
        "loan_export2.columns"
      ],
      "metadata": {
        "colab": {
          "base_uri": "https://localhost:8080/"
        },
        "id": "0hPCh_g1nVA2",
        "outputId": "33246208-b2cb-4e37-e8e5-9799b9458cd3"
      },
      "execution_count": 740,
      "outputs": [
        {
          "output_type": "execute_result",
          "data": {
            "text/plain": [
              "Index(['FirstTimeHomebuyer', 'MIP', 'Units', 'Occupancy', 'OCLTV', 'DTI',\n",
              "       'OrigUPB', 'OrigInterestRate', 'PPM', 'LoanPurpose', 'OrigLoanTerm',\n",
              "       'NumBorrowers', 'EverDelinquent', 'MonthsDelinquent',\n",
              "       'MonthsInRepayment', 'CreditScore_ranges'],\n",
              "      dtype='object')"
            ]
          },
          "metadata": {},
          "execution_count": 740
        }
      ]
    },
    {
      "cell_type": "code",
      "source": [
        "#mip"
      ],
      "metadata": {
        "id": "Tfn3ER4dnwhj"
      },
      "execution_count": 741,
      "outputs": []
    },
    {
      "cell_type": "code",
      "source": [
        "loan_export2[\"MIP\"].describe()"
      ],
      "metadata": {
        "colab": {
          "base_uri": "https://localhost:8080/"
        },
        "id": "pvp7USw1pxZZ",
        "outputId": "97dc2112-fd7d-48b6-8ced-9f2b932b17f4"
      },
      "execution_count": 742,
      "outputs": [
        {
          "output_type": "execute_result",
          "data": {
            "text/plain": [
              "count    291451.000000\n",
              "mean          9.216685\n",
              "std          12.648273\n",
              "min           0.000000\n",
              "25%           0.000000\n",
              "50%           0.000000\n",
              "75%          25.000000\n",
              "max          55.000000\n",
              "Name: MIP, dtype: float64"
            ]
          },
          "metadata": {},
          "execution_count": 742
        }
      ]
    },
    {
      "cell_type": "code",
      "source": [
        "loan_export2[\"MIP\"]=loan_export2[\"MIP\"].replace({0:9.216685})"
      ],
      "metadata": {
        "id": "kr7Yv51ap5Nm"
      },
      "execution_count": 743,
      "outputs": []
    },
    {
      "cell_type": "code",
      "source": [
        "#'Units'"
      ],
      "metadata": {
        "id": "7Hd6m1hOsxkP"
      },
      "execution_count": 744,
      "outputs": []
    },
    {
      "cell_type": "code",
      "source": [
        "loan_export2[\"Units\"].describe()"
      ],
      "metadata": {
        "colab": {
          "base_uri": "https://localhost:8080/"
        },
        "id": "4BQ485gRuRzX",
        "outputId": "a11f42c1-0c14-42e4-ecfd-73722e7b0163"
      },
      "execution_count": 745,
      "outputs": [
        {
          "output_type": "execute_result",
          "data": {
            "text/plain": [
              "count    291451.000000\n",
              "mean          1.026022\n",
              "std           0.202986\n",
              "min           0.000000\n",
              "25%           1.000000\n",
              "50%           1.000000\n",
              "75%           1.000000\n",
              "max           4.000000\n",
              "Name: Units, dtype: float64"
            ]
          },
          "metadata": {},
          "execution_count": 745
        }
      ]
    },
    {
      "cell_type": "code",
      "source": [
        "#'OCLTV'"
      ],
      "metadata": {
        "id": "mfS7mYfDub9D"
      },
      "execution_count": 746,
      "outputs": []
    },
    {
      "cell_type": "code",
      "source": [
        "loan_export2['OCLTV'].describe()"
      ],
      "metadata": {
        "colab": {
          "base_uri": "https://localhost:8080/"
        },
        "id": "xNXgCreOunHB",
        "outputId": "64e43325-f9d1-4c45-e8c3-56e38e2828f9"
      },
      "execution_count": 747,
      "outputs": [
        {
          "output_type": "execute_result",
          "data": {
            "text/plain": [
              "count    291451.000000\n",
              "mean         76.960529\n",
              "std          15.236154\n",
              "min           0.000000\n",
              "25%          70.000000\n",
              "50%          80.000000\n",
              "75%          90.000000\n",
              "max         110.000000\n",
              "Name: OCLTV, dtype: float64"
            ]
          },
          "metadata": {},
          "execution_count": 747
        }
      ]
    },
    {
      "cell_type": "code",
      "source": [
        "loan_export2[\"OCLTV\"]=loan_export2[\"OCLTV\"].replace({0:77})"
      ],
      "metadata": {
        "id": "8twE4M_p2iwq"
      },
      "execution_count": 748,
      "outputs": []
    },
    {
      "cell_type": "code",
      "source": [
        "bins=[0,80,110]\n",
        "groups=['goodltv','badltv']\n",
        "loan_export2[\"ltv_ranges\"] = pd.cut(loan_export2[\"OCLTV\"],bins=bins,labels=groups)\n",
        "loan_export2[[\"ltv_ranges\",\"OCLTV\"]].head()"
      ],
      "metadata": {
        "colab": {
          "base_uri": "https://localhost:8080/",
          "height": 206
        },
        "id": "jisurAshuuNO",
        "outputId": "a2faf235-11cb-49ea-df4a-b46b0eba9bef"
      },
      "execution_count": 749,
      "outputs": [
        {
          "output_type": "execute_result",
          "data": {
            "text/plain": [
              "  ltv_ranges  OCLTV\n",
              "0     badltv     89\n",
              "1    goodltv     73\n",
              "2    goodltv     75\n",
              "3    goodltv     76\n",
              "4    goodltv     78"
            ],
            "text/html": [
              "\n",
              "  <div id=\"df-f594924e-369f-4181-8919-73d4a38e28b9\">\n",
              "    <div class=\"colab-df-container\">\n",
              "      <div>\n",
              "<style scoped>\n",
              "    .dataframe tbody tr th:only-of-type {\n",
              "        vertical-align: middle;\n",
              "    }\n",
              "\n",
              "    .dataframe tbody tr th {\n",
              "        vertical-align: top;\n",
              "    }\n",
              "\n",
              "    .dataframe thead th {\n",
              "        text-align: right;\n",
              "    }\n",
              "</style>\n",
              "<table border=\"1\" class=\"dataframe\">\n",
              "  <thead>\n",
              "    <tr style=\"text-align: right;\">\n",
              "      <th></th>\n",
              "      <th>ltv_ranges</th>\n",
              "      <th>OCLTV</th>\n",
              "    </tr>\n",
              "  </thead>\n",
              "  <tbody>\n",
              "    <tr>\n",
              "      <th>0</th>\n",
              "      <td>badltv</td>\n",
              "      <td>89</td>\n",
              "    </tr>\n",
              "    <tr>\n",
              "      <th>1</th>\n",
              "      <td>goodltv</td>\n",
              "      <td>73</td>\n",
              "    </tr>\n",
              "    <tr>\n",
              "      <th>2</th>\n",
              "      <td>goodltv</td>\n",
              "      <td>75</td>\n",
              "    </tr>\n",
              "    <tr>\n",
              "      <th>3</th>\n",
              "      <td>goodltv</td>\n",
              "      <td>76</td>\n",
              "    </tr>\n",
              "    <tr>\n",
              "      <th>4</th>\n",
              "      <td>goodltv</td>\n",
              "      <td>78</td>\n",
              "    </tr>\n",
              "  </tbody>\n",
              "</table>\n",
              "</div>\n",
              "      <button class=\"colab-df-convert\" onclick=\"convertToInteractive('df-f594924e-369f-4181-8919-73d4a38e28b9')\"\n",
              "              title=\"Convert this dataframe to an interactive table.\"\n",
              "              style=\"display:none;\">\n",
              "        \n",
              "  <svg xmlns=\"http://www.w3.org/2000/svg\" height=\"24px\"viewBox=\"0 0 24 24\"\n",
              "       width=\"24px\">\n",
              "    <path d=\"M0 0h24v24H0V0z\" fill=\"none\"/>\n",
              "    <path d=\"M18.56 5.44l.94 2.06.94-2.06 2.06-.94-2.06-.94-.94-2.06-.94 2.06-2.06.94zm-11 1L8.5 8.5l.94-2.06 2.06-.94-2.06-.94L8.5 2.5l-.94 2.06-2.06.94zm10 10l.94 2.06.94-2.06 2.06-.94-2.06-.94-.94-2.06-.94 2.06-2.06.94z\"/><path d=\"M17.41 7.96l-1.37-1.37c-.4-.4-.92-.59-1.43-.59-.52 0-1.04.2-1.43.59L10.3 9.45l-7.72 7.72c-.78.78-.78 2.05 0 2.83L4 21.41c.39.39.9.59 1.41.59.51 0 1.02-.2 1.41-.59l7.78-7.78 2.81-2.81c.8-.78.8-2.07 0-2.86zM5.41 20L4 18.59l7.72-7.72 1.47 1.35L5.41 20z\"/>\n",
              "  </svg>\n",
              "      </button>\n",
              "      \n",
              "  <style>\n",
              "    .colab-df-container {\n",
              "      display:flex;\n",
              "      flex-wrap:wrap;\n",
              "      gap: 12px;\n",
              "    }\n",
              "\n",
              "    .colab-df-convert {\n",
              "      background-color: #E8F0FE;\n",
              "      border: none;\n",
              "      border-radius: 50%;\n",
              "      cursor: pointer;\n",
              "      display: none;\n",
              "      fill: #1967D2;\n",
              "      height: 32px;\n",
              "      padding: 0 0 0 0;\n",
              "      width: 32px;\n",
              "    }\n",
              "\n",
              "    .colab-df-convert:hover {\n",
              "      background-color: #E2EBFA;\n",
              "      box-shadow: 0px 1px 2px rgba(60, 64, 67, 0.3), 0px 1px 3px 1px rgba(60, 64, 67, 0.15);\n",
              "      fill: #174EA6;\n",
              "    }\n",
              "\n",
              "    [theme=dark] .colab-df-convert {\n",
              "      background-color: #3B4455;\n",
              "      fill: #D2E3FC;\n",
              "    }\n",
              "\n",
              "    [theme=dark] .colab-df-convert:hover {\n",
              "      background-color: #434B5C;\n",
              "      box-shadow: 0px 1px 3px 1px rgba(0, 0, 0, 0.15);\n",
              "      filter: drop-shadow(0px 1px 2px rgba(0, 0, 0, 0.3));\n",
              "      fill: #FFFFFF;\n",
              "    }\n",
              "  </style>\n",
              "\n",
              "      <script>\n",
              "        const buttonEl =\n",
              "          document.querySelector('#df-f594924e-369f-4181-8919-73d4a38e28b9 button.colab-df-convert');\n",
              "        buttonEl.style.display =\n",
              "          google.colab.kernel.accessAllowed ? 'block' : 'none';\n",
              "\n",
              "        async function convertToInteractive(key) {\n",
              "          const element = document.querySelector('#df-f594924e-369f-4181-8919-73d4a38e28b9');\n",
              "          const dataTable =\n",
              "            await google.colab.kernel.invokeFunction('convertToInteractive',\n",
              "                                                     [key], {});\n",
              "          if (!dataTable) return;\n",
              "\n",
              "          const docLinkHtml = 'Like what you see? Visit the ' +\n",
              "            '<a target=\"_blank\" href=https://colab.research.google.com/notebooks/data_table.ipynb>data table notebook</a>'\n",
              "            + ' to learn more about interactive tables.';\n",
              "          element.innerHTML = '';\n",
              "          dataTable['output_type'] = 'display_data';\n",
              "          await google.colab.output.renderOutput(dataTable, element);\n",
              "          const docLink = document.createElement('div');\n",
              "          docLink.innerHTML = docLinkHtml;\n",
              "          element.appendChild(docLink);\n",
              "        }\n",
              "      </script>\n",
              "    </div>\n",
              "  </div>\n",
              "  "
            ]
          },
          "metadata": {},
          "execution_count": 749
        }
      ]
    },
    {
      "cell_type": "code",
      "source": [
        "#DTI"
      ],
      "metadata": {
        "id": "IwalhTatvhRr"
      },
      "execution_count": 750,
      "outputs": []
    },
    {
      "cell_type": "code",
      "source": [
        "loan_export2[\"DTI\"].describe()"
      ],
      "metadata": {
        "colab": {
          "base_uri": "https://localhost:8080/"
        },
        "id": "z9S926Y-4T4-",
        "outputId": "833bc01f-052e-450e-b91e-c5e1b9651b42"
      },
      "execution_count": 751,
      "outputs": [
        {
          "output_type": "execute_result",
          "data": {
            "text/plain": [
              "count    291451.000000\n",
              "mean         30.033453\n",
              "std          13.203974\n",
              "min           0.000000\n",
              "25%          22.000000\n",
              "50%          31.000000\n",
              "75%          39.000000\n",
              "max          65.000000\n",
              "Name: DTI, dtype: float64"
            ]
          },
          "metadata": {},
          "execution_count": 751
        }
      ]
    },
    {
      "cell_type": "code",
      "source": [
        "loan_export2[\"DTI\"]=loan_export2[\"DTI\"].fillna(0)"
      ],
      "metadata": {
        "id": "wM-Ifefa5Bgs"
      },
      "execution_count": 752,
      "outputs": []
    },
    {
      "cell_type": "code",
      "source": [
        "loan_export2[\"DTI\"]=loan_export2[\"DTI\"].replace({0:30})"
      ],
      "metadata": {
        "id": "ujRXTws_3_-H"
      },
      "execution_count": 753,
      "outputs": []
    },
    {
      "cell_type": "code",
      "source": [
        "Bins=[0,10,15,20,30]\n",
        "Groups=['lowrisk','mediumrisk','risk','Highrisk']\n",
        "loan_export2[\"DTI_ranges\"] = pd.cut(loan_export2[\"DTI\"],bins=Bins,labels=Groups)\n",
        "loan_export2[[\"DTI_ranges\",\"DTI\"]].head()"
      ],
      "metadata": {
        "colab": {
          "base_uri": "https://localhost:8080/",
          "height": 206
        },
        "id": "8W4peZNSvliC",
        "outputId": "acab3da1-e08e-48c8-e9d2-18989fa75d23"
      },
      "execution_count": 754,
      "outputs": [
        {
          "output_type": "execute_result",
          "data": {
            "text/plain": [
              "   DTI_ranges  DTI\n",
              "0    Highrisk   27\n",
              "1        risk   17\n",
              "2        risk   16\n",
              "3  mediumrisk   14\n",
              "4        risk   18"
            ],
            "text/html": [
              "\n",
              "  <div id=\"df-e7a3c88f-0170-4457-9861-8336e760dd73\">\n",
              "    <div class=\"colab-df-container\">\n",
              "      <div>\n",
              "<style scoped>\n",
              "    .dataframe tbody tr th:only-of-type {\n",
              "        vertical-align: middle;\n",
              "    }\n",
              "\n",
              "    .dataframe tbody tr th {\n",
              "        vertical-align: top;\n",
              "    }\n",
              "\n",
              "    .dataframe thead th {\n",
              "        text-align: right;\n",
              "    }\n",
              "</style>\n",
              "<table border=\"1\" class=\"dataframe\">\n",
              "  <thead>\n",
              "    <tr style=\"text-align: right;\">\n",
              "      <th></th>\n",
              "      <th>DTI_ranges</th>\n",
              "      <th>DTI</th>\n",
              "    </tr>\n",
              "  </thead>\n",
              "  <tbody>\n",
              "    <tr>\n",
              "      <th>0</th>\n",
              "      <td>Highrisk</td>\n",
              "      <td>27</td>\n",
              "    </tr>\n",
              "    <tr>\n",
              "      <th>1</th>\n",
              "      <td>risk</td>\n",
              "      <td>17</td>\n",
              "    </tr>\n",
              "    <tr>\n",
              "      <th>2</th>\n",
              "      <td>risk</td>\n",
              "      <td>16</td>\n",
              "    </tr>\n",
              "    <tr>\n",
              "      <th>3</th>\n",
              "      <td>mediumrisk</td>\n",
              "      <td>14</td>\n",
              "    </tr>\n",
              "    <tr>\n",
              "      <th>4</th>\n",
              "      <td>risk</td>\n",
              "      <td>18</td>\n",
              "    </tr>\n",
              "  </tbody>\n",
              "</table>\n",
              "</div>\n",
              "      <button class=\"colab-df-convert\" onclick=\"convertToInteractive('df-e7a3c88f-0170-4457-9861-8336e760dd73')\"\n",
              "              title=\"Convert this dataframe to an interactive table.\"\n",
              "              style=\"display:none;\">\n",
              "        \n",
              "  <svg xmlns=\"http://www.w3.org/2000/svg\" height=\"24px\"viewBox=\"0 0 24 24\"\n",
              "       width=\"24px\">\n",
              "    <path d=\"M0 0h24v24H0V0z\" fill=\"none\"/>\n",
              "    <path d=\"M18.56 5.44l.94 2.06.94-2.06 2.06-.94-2.06-.94-.94-2.06-.94 2.06-2.06.94zm-11 1L8.5 8.5l.94-2.06 2.06-.94-2.06-.94L8.5 2.5l-.94 2.06-2.06.94zm10 10l.94 2.06.94-2.06 2.06-.94-2.06-.94-.94-2.06-.94 2.06-2.06.94z\"/><path d=\"M17.41 7.96l-1.37-1.37c-.4-.4-.92-.59-1.43-.59-.52 0-1.04.2-1.43.59L10.3 9.45l-7.72 7.72c-.78.78-.78 2.05 0 2.83L4 21.41c.39.39.9.59 1.41.59.51 0 1.02-.2 1.41-.59l7.78-7.78 2.81-2.81c.8-.78.8-2.07 0-2.86zM5.41 20L4 18.59l7.72-7.72 1.47 1.35L5.41 20z\"/>\n",
              "  </svg>\n",
              "      </button>\n",
              "      \n",
              "  <style>\n",
              "    .colab-df-container {\n",
              "      display:flex;\n",
              "      flex-wrap:wrap;\n",
              "      gap: 12px;\n",
              "    }\n",
              "\n",
              "    .colab-df-convert {\n",
              "      background-color: #E8F0FE;\n",
              "      border: none;\n",
              "      border-radius: 50%;\n",
              "      cursor: pointer;\n",
              "      display: none;\n",
              "      fill: #1967D2;\n",
              "      height: 32px;\n",
              "      padding: 0 0 0 0;\n",
              "      width: 32px;\n",
              "    }\n",
              "\n",
              "    .colab-df-convert:hover {\n",
              "      background-color: #E2EBFA;\n",
              "      box-shadow: 0px 1px 2px rgba(60, 64, 67, 0.3), 0px 1px 3px 1px rgba(60, 64, 67, 0.15);\n",
              "      fill: #174EA6;\n",
              "    }\n",
              "\n",
              "    [theme=dark] .colab-df-convert {\n",
              "      background-color: #3B4455;\n",
              "      fill: #D2E3FC;\n",
              "    }\n",
              "\n",
              "    [theme=dark] .colab-df-convert:hover {\n",
              "      background-color: #434B5C;\n",
              "      box-shadow: 0px 1px 3px 1px rgba(0, 0, 0, 0.15);\n",
              "      filter: drop-shadow(0px 1px 2px rgba(0, 0, 0, 0.3));\n",
              "      fill: #FFFFFF;\n",
              "    }\n",
              "  </style>\n",
              "\n",
              "      <script>\n",
              "        const buttonEl =\n",
              "          document.querySelector('#df-e7a3c88f-0170-4457-9861-8336e760dd73 button.colab-df-convert');\n",
              "        buttonEl.style.display =\n",
              "          google.colab.kernel.accessAllowed ? 'block' : 'none';\n",
              "\n",
              "        async function convertToInteractive(key) {\n",
              "          const element = document.querySelector('#df-e7a3c88f-0170-4457-9861-8336e760dd73');\n",
              "          const dataTable =\n",
              "            await google.colab.kernel.invokeFunction('convertToInteractive',\n",
              "                                                     [key], {});\n",
              "          if (!dataTable) return;\n",
              "\n",
              "          const docLinkHtml = 'Like what you see? Visit the ' +\n",
              "            '<a target=\"_blank\" href=https://colab.research.google.com/notebooks/data_table.ipynb>data table notebook</a>'\n",
              "            + ' to learn more about interactive tables.';\n",
              "          element.innerHTML = '';\n",
              "          dataTable['output_type'] = 'display_data';\n",
              "          await google.colab.output.renderOutput(dataTable, element);\n",
              "          const docLink = document.createElement('div');\n",
              "          docLink.innerHTML = docLinkHtml;\n",
              "          element.appendChild(docLink);\n",
              "        }\n",
              "      </script>\n",
              "    </div>\n",
              "  </div>\n",
              "  "
            ]
          },
          "metadata": {},
          "execution_count": 754
        }
      ]
    },
    {
      "cell_type": "code",
      "source": [
        "loan_export2=loan_export2.drop([\"DTI\",\"OCLTV\"],axis=1)"
      ],
      "metadata": {
        "id": "liFyu9yVwMWT"
      },
      "execution_count": 755,
      "outputs": []
    },
    {
      "cell_type": "code",
      "source": [
        "loan_export2.columns"
      ],
      "metadata": {
        "colab": {
          "base_uri": "https://localhost:8080/"
        },
        "id": "ayQHihNnwy-j",
        "outputId": "8e419611-a993-48d0-bf47-e47f0091c737"
      },
      "execution_count": 756,
      "outputs": [
        {
          "output_type": "execute_result",
          "data": {
            "text/plain": [
              "Index(['FirstTimeHomebuyer', 'MIP', 'Units', 'Occupancy', 'OrigUPB',\n",
              "       'OrigInterestRate', 'PPM', 'LoanPurpose', 'OrigLoanTerm',\n",
              "       'NumBorrowers', 'EverDelinquent', 'MonthsDelinquent',\n",
              "       'MonthsInRepayment', 'CreditScore_ranges', 'ltv_ranges', 'DTI_ranges'],\n",
              "      dtype='object')"
            ]
          },
          "metadata": {},
          "execution_count": 756
        }
      ]
    },
    {
      "cell_type": "code",
      "source": [
        "#OrigInterestRate"
      ],
      "metadata": {
        "id": "Z9QJqyXNxE5p"
      },
      "execution_count": 757,
      "outputs": []
    },
    {
      "cell_type": "code",
      "source": [
        "loan_export2[\"OrigInterestRate\"].describe()"
      ],
      "metadata": {
        "colab": {
          "base_uri": "https://localhost:8080/"
        },
        "id": "8aD0ourOw6wM",
        "outputId": "6ce87f61-0c1c-4f7a-b456-482e12404461"
      },
      "execution_count": 758,
      "outputs": [
        {
          "output_type": "execute_result",
          "data": {
            "text/plain": [
              "count    291451.000000\n",
              "mean          6.926547\n",
              "std           0.343541\n",
              "min           4.000000\n",
              "25%           6.750000\n",
              "50%           6.875000\n",
              "75%           7.125000\n",
              "max          12.350000\n",
              "Name: OrigInterestRate, dtype: float64"
            ]
          },
          "metadata": {},
          "execution_count": 758
        }
      ]
    },
    {
      "cell_type": "code",
      "source": [
        "#'NumBorrowers'"
      ],
      "metadata": {
        "id": "a7EC9Xi3xMoL"
      },
      "execution_count": 759,
      "outputs": []
    },
    {
      "cell_type": "code",
      "source": [
        "loan_export2['NumBorrowers'].describe()"
      ],
      "metadata": {
        "colab": {
          "base_uri": "https://localhost:8080/"
        },
        "id": "RGXj_BZZxIqd",
        "outputId": "71cae614-13e4-45e6-9cf0-5baf247da476"
      },
      "execution_count": 760,
      "outputs": [
        {
          "output_type": "execute_result",
          "data": {
            "text/plain": [
              "count     291451\n",
              "unique         3\n",
              "top            2\n",
              "freq      187335\n",
              "Name: NumBorrowers, dtype: object"
            ]
          },
          "metadata": {},
          "execution_count": 760
        }
      ]
    },
    {
      "cell_type": "code",
      "source": [
        "#'EverDelinquent', 'MonthsDelinquent',\n",
        "  #     'MonthsInRepayment'"
      ],
      "metadata": {
        "id": "cYuK15VrxYdD"
      },
      "execution_count": 761,
      "outputs": []
    },
    {
      "cell_type": "code",
      "source": [
        "loan_export2['EverDelinquent'].describe()"
      ],
      "metadata": {
        "colab": {
          "base_uri": "https://localhost:8080/"
        },
        "id": "nnLp1XaGxfx7",
        "outputId": "88378a20-70a3-4b7c-d938-faf556a61363"
      },
      "execution_count": 762,
      "outputs": [
        {
          "output_type": "execute_result",
          "data": {
            "text/plain": [
              "count    291451.000000\n",
              "mean          0.197848\n",
              "std           0.398378\n",
              "min           0.000000\n",
              "25%           0.000000\n",
              "50%           0.000000\n",
              "75%           0.000000\n",
              "max           1.000000\n",
              "Name: EverDelinquent, dtype: float64"
            ]
          },
          "metadata": {},
          "execution_count": 762
        }
      ]
    },
    {
      "cell_type": "code",
      "source": [
        "loan_export2['MonthsDelinquent'].describe()"
      ],
      "metadata": {
        "colab": {
          "base_uri": "https://localhost:8080/"
        },
        "id": "RCA_wovjxljU",
        "outputId": "8a26e2e6-733b-4d88-d571-90bb64201ae3"
      },
      "execution_count": 763,
      "outputs": [
        {
          "output_type": "execute_result",
          "data": {
            "text/plain": [
              "count    291451.000000\n",
              "mean          1.837729\n",
              "std           8.809392\n",
              "min           0.000000\n",
              "25%           0.000000\n",
              "50%           0.000000\n",
              "75%           0.000000\n",
              "max         180.000000\n",
              "Name: MonthsDelinquent, dtype: float64"
            ]
          },
          "metadata": {},
          "execution_count": 763
        }
      ]
    },
    {
      "cell_type": "code",
      "source": [
        "loan_export2['MonthsInRepayment'].describe()"
      ],
      "metadata": {
        "colab": {
          "base_uri": "https://localhost:8080/"
        },
        "id": "A8zfi-JHxsyk",
        "outputId": "63395d93-3c69-4c6f-e2cd-a089e58f9e06"
      },
      "execution_count": 764,
      "outputs": [
        {
          "output_type": "execute_result",
          "data": {
            "text/plain": [
              "count    291451.000000\n",
              "mean         60.805291\n",
              "std          46.142599\n",
              "min           1.000000\n",
              "25%          34.000000\n",
              "50%          48.000000\n",
              "75%          63.000000\n",
              "max         212.000000\n",
              "Name: MonthsInRepayment, dtype: float64"
            ]
          },
          "metadata": {},
          "execution_count": 764
        }
      ]
    },
    {
      "cell_type": "code",
      "source": [
        "loan_export2[\"CreditScore_ranges\"]=loan_export2[\"CreditScore_ranges\"].astype(\"str\")\n",
        "loan_export2[\"ltv_ranges\"]=loan_export2[\"ltv_ranges\"].astype(\"str\")\n",
        "loan_export2[\"DTI_ranges\"]=loan_export2[\"DTI_ranges\"].astype(\"str\")\n"
      ],
      "metadata": {
        "id": "FqxaCBrSyR-M"
      },
      "execution_count": 765,
      "outputs": []
    },
    {
      "cell_type": "code",
      "source": [
        "loan_export2.dtypes"
      ],
      "metadata": {
        "colab": {
          "base_uri": "https://localhost:8080/"
        },
        "id": "7k7SCqmrx1a-",
        "outputId": "7991fe56-2586-44a4-8f18-b80676e4a576"
      },
      "execution_count": 766,
      "outputs": [
        {
          "output_type": "execute_result",
          "data": {
            "text/plain": [
              "FirstTimeHomebuyer     object\n",
              "MIP                   float64\n",
              "Units                   int64\n",
              "Occupancy              object\n",
              "OrigUPB                 int64\n",
              "OrigInterestRate      float64\n",
              "PPM                    object\n",
              "LoanPurpose            object\n",
              "OrigLoanTerm            int64\n",
              "NumBorrowers           object\n",
              "EverDelinquent          int64\n",
              "MonthsDelinquent        int64\n",
              "MonthsInRepayment       int64\n",
              "CreditScore_ranges     object\n",
              "ltv_ranges             object\n",
              "DTI_ranges             object\n",
              "dtype: object"
            ]
          },
          "metadata": {},
          "execution_count": 766
        }
      ]
    },
    {
      "cell_type": "code",
      "source": [
        "#univariate bivariate analysis"
      ],
      "metadata": {
        "id": "1C0QN1nKy7E1"
      },
      "execution_count": 767,
      "outputs": []
    },
    {
      "cell_type": "code",
      "source": [
        "sns.barplot(loan_export2[\"EverDelinquent\"],loan_export2[\"CreditScore_ranges\"])"
      ],
      "metadata": {
        "colab": {
          "base_uri": "https://localhost:8080/",
          "height": 353
        },
        "id": "BcS1VT-a0FKy",
        "outputId": "25dd2a2e-521a-4473-c3ec-cec477d90cb3"
      },
      "execution_count": 768,
      "outputs": [
        {
          "output_type": "stream",
          "name": "stderr",
          "text": [
            "/usr/local/lib/python3.8/dist-packages/seaborn/_decorators.py:36: FutureWarning: Pass the following variables as keyword args: x, y. From version 0.12, the only valid positional argument will be `data`, and passing other arguments without an explicit keyword will result in an error or misinterpretation.\n",
            "  warnings.warn(\n"
          ]
        },
        {
          "output_type": "execute_result",
          "data": {
            "text/plain": [
              "<matplotlib.axes._subplots.AxesSubplot at 0x7f97c6145bb0>"
            ]
          },
          "metadata": {},
          "execution_count": 768
        },
        {
          "output_type": "display_data",
          "data": {
            "text/plain": [
              "<Figure size 432x288 with 1 Axes>"
            ],
            "image/png": "[encoded data removed]"
          },
          "metadata": {
            "needs_background": "light"
          }
        }
      ]
    },
    {
      "cell_type": "markdown",
      "source": [
        "people having very poor and poor credit scores are the persons who delay the most and are deliquent.\n"
      ],
      "metadata": {
        "id": "M6-RNFZe16He"
      }
    },
    {
      "cell_type": "code",
      "source": [
        "sns.barplot(loan_export2[\"EverDelinquent\"],loan_export2[\"ltv_ranges\"])"
      ],
      "metadata": {
        "colab": {
          "base_uri": "https://localhost:8080/",
          "height": 353
        },
        "id": "1tMdQd9h15P5",
        "outputId": "65cf6293-bb8f-4ac2-d8ac-294dfbe0ff49"
      },
      "execution_count": 769,
      "outputs": [
        {
          "output_type": "stream",
          "name": "stderr",
          "text": [
            "/usr/local/lib/python3.8/dist-packages/seaborn/_decorators.py:36: FutureWarning: Pass the following variables as keyword args: x, y. From version 0.12, the only valid positional argument will be `data`, and passing other arguments without an explicit keyword will result in an error or misinterpretation.\n",
            "  warnings.warn(\n"
          ]
        },
        {
          "output_type": "execute_result",
          "data": {
            "text/plain": [
              "<matplotlib.axes._subplots.AxesSubplot at 0x7f97c61450a0>"
            ]
          },
          "metadata": {},
          "execution_count": 769
        },
        {
          "output_type": "display_data",
          "data": {
            "text/plain": [
              "<Figure size 432x288 with 1 Axes>"
            ],
            "image/png": "[encoded data removed]"
          },
          "metadata": {
            "needs_background": "light"
          }
        }
      ]
    },
    {
      "cell_type": "markdown",
      "source": [
        "#from this we can say that the person having ltv greater than 80 is surely having more deliquency.\n"
      ],
      "metadata": {
        "id": "TClPFjAI3QxH"
      }
    },
    {
      "cell_type": "code",
      "source": [
        "loan_export2[\"DTI_ranges\"]=loan_export2[\"DTI_ranges\"].replace({\"nan\":\"Highrisk\"})"
      ],
      "metadata": {
        "id": "Xkov5m2v2akh"
      },
      "execution_count": 770,
      "outputs": []
    },
    {
      "cell_type": "code",
      "source": [
        "sns.barplot(loan_export2[\"EverDelinquent\"],loan_export2[\"DTI_ranges\"],hue=loan_export2[\"FirstTimeHomebuyer\"])"
      ],
      "metadata": {
        "colab": {
          "base_uri": "https://localhost:8080/",
          "height": 353
        },
        "id": "W-j3yoDC3uaO",
        "outputId": "e97e9a68-bd34-4040-8aa9-d2f89a868ad3"
      },
      "execution_count": 771,
      "outputs": [
        {
          "output_type": "stream",
          "name": "stderr",
          "text": [
            "/usr/local/lib/python3.8/dist-packages/seaborn/_decorators.py:36: FutureWarning: Pass the following variables as keyword args: x, y. From version 0.12, the only valid positional argument will be `data`, and passing other arguments without an explicit keyword will result in an error or misinterpretation.\n",
            "  warnings.warn(\n"
          ]
        },
        {
          "output_type": "execute_result",
          "data": {
            "text/plain": [
              "<matplotlib.axes._subplots.AxesSubplot at 0x7f97c60e4250>"
            ]
          },
          "metadata": {},
          "execution_count": 771
        },
        {
          "output_type": "display_data",
          "data": {
            "text/plain": [
              "<Figure size 432x288 with 1 Axes>"
            ],
            "image/png": "[encoded data removed]"
          },
          "metadata": {
            "needs_background": "light"
          }
        }
      ]
    },
    {
      "cell_type": "markdown",
      "source": [
        "Dtirange\n",
        "highrisk-whether a person is buying a first home or not there is a high chance of deliquency\n",
        "risk-person who is buying home for first time is deliqueating more\n",
        "medium risk-mostly same\n",
        "low risk-chances of deliquency for a first time home buyer is more\n",
        "#chances of deliquency is more for a person buying home for first iem in all categories\n"
      ],
      "metadata": {
        "id": "YHzmM1br6JDB"
      }
    },
    {
      "cell_type": "code",
      "source": [
        "sns.barplot(loan_export2[\"EverDelinquent\"],loan_export2[\"MonthsInRepayment\"])"
      ],
      "metadata": {
        "colab": {
          "base_uri": "https://localhost:8080/",
          "height": 353
        },
        "id": "loNtERT479NC",
        "outputId": "c790d7c0-3bff-482d-9353-1b601f33bcc7"
      },
      "execution_count": 772,
      "outputs": [
        {
          "output_type": "stream",
          "name": "stderr",
          "text": [
            "/usr/local/lib/python3.8/dist-packages/seaborn/_decorators.py:36: FutureWarning: Pass the following variables as keyword args: x, y. From version 0.12, the only valid positional argument will be `data`, and passing other arguments without an explicit keyword will result in an error or misinterpretation.\n",
            "  warnings.warn(\n"
          ]
        },
        {
          "output_type": "execute_result",
          "data": {
            "text/plain": [
              "<matplotlib.axes._subplots.AxesSubplot at 0x7f97c6064d30>"
            ]
          },
          "metadata": {},
          "execution_count": 772
        },
        {
          "output_type": "display_data",
          "data": {
            "text/plain": [
              "<Figure size 432x288 with 1 Axes>"
            ],
            "image/png": "[encoded data removed]"
          },
          "metadata": {
            "needs_background": "light"
          }
        }
      ]
    },
    {
      "cell_type": "markdown",
      "source": [
        "people who are delaying are late by 30 months in their monthly  payments.While the ones with no deliquency are having an average repayment of 50 months"
      ],
      "metadata": {
        "id": "0jikzx3j8Hsv"
      }
    },
    {
      "cell_type": "code",
      "source": [
        "sns.barplot(loan_export2[\"CreditScore_ranges\"],loan_export2[\"MonthsDelinquent\"],hue=loan_export2[\"FirstTimeHomebuyer\"])"
      ],
      "metadata": {
        "colab": {
          "base_uri": "https://localhost:8080/",
          "height": 354
        },
        "id": "9QgJqy7p66_m",
        "outputId": "329871a4-6e88-4177-9a41-76ff2d81aaed"
      },
      "execution_count": 773,
      "outputs": [
        {
          "output_type": "stream",
          "name": "stderr",
          "text": [
            "/usr/local/lib/python3.8/dist-packages/seaborn/_decorators.py:36: FutureWarning: Pass the following variables as keyword args: x, y. From version 0.12, the only valid positional argument will be `data`, and passing other arguments without an explicit keyword will result in an error or misinterpretation.\n",
            "  warnings.warn(\n"
          ]
        },
        {
          "output_type": "execute_result",
          "data": {
            "text/plain": [
              "<matplotlib.axes._subplots.AxesSubplot at 0x7f97c5fba580>"
            ]
          },
          "metadata": {},
          "execution_count": 773
        },
        {
          "output_type": "display_data",
          "data": {
            "text/plain": [
              "<Figure size 432x288 with 1 Axes>"
            ],
            "image/png": "[encoded data removed]"
          },
          "metadata": {
            "needs_background": "light"
          }
        }
      ]
    },
    {
      "cell_type": "markdown",
      "source": [
        "creditscoresranges depicts us that the customers with less credit score are the most deliquent customers and if they are buying for first time their chances of deliquency is more \n"
      ],
      "metadata": {
        "id": "DNb8ykJ_9BKL"
      }
    },
    {
      "cell_type": "code",
      "source": [
        "sns.boxplot(loan_export2[\"OrigUPB\"],loan_export2[\"CreditScore_ranges\"])"
      ],
      "metadata": {
        "colab": {
          "base_uri": "https://localhost:8080/",
          "height": 353
        },
        "id": "zyIQ2Q2K9fz-",
        "outputId": "f57b67e0-677a-44ab-b8f1-d6ce501a8086"
      },
      "execution_count": 774,
      "outputs": [
        {
          "output_type": "stream",
          "name": "stderr",
          "text": [
            "/usr/local/lib/python3.8/dist-packages/seaborn/_decorators.py:36: FutureWarning: Pass the following variables as keyword args: x, y. From version 0.12, the only valid positional argument will be `data`, and passing other arguments without an explicit keyword will result in an error or misinterpretation.\n",
            "  warnings.warn(\n"
          ]
        },
        {
          "output_type": "execute_result",
          "data": {
            "text/plain": [
              "<matplotlib.axes._subplots.AxesSubplot at 0x7f97c5f7e370>"
            ]
          },
          "metadata": {},
          "execution_count": 774
        },
        {
          "output_type": "display_data",
          "data": {
            "text/plain": [
              "<Figure size 432x288 with 1 Axes>"
            ],
            "image/png": "[encoded data removed]"
          },
          "metadata": {
            "needs_background": "light"
          }
        }
      ]
    },
    {
      "cell_type": "code",
      "source": [
        "sns.boxplot(loan_export2[\"MIP\"])"
      ],
      "metadata": {
        "colab": {
          "base_uri": "https://localhost:8080/",
          "height": 353
        },
        "id": "-X7fMD_l6Gfv",
        "outputId": "ee8e12e7-f709-4758-d826-93d56110aa83"
      },
      "execution_count": 775,
      "outputs": [
        {
          "output_type": "stream",
          "name": "stderr",
          "text": [
            "/usr/local/lib/python3.8/dist-packages/seaborn/_decorators.py:36: FutureWarning: Pass the following variable as a keyword arg: x. From version 0.12, the only valid positional argument will be `data`, and passing other arguments without an explicit keyword will result in an error or misinterpretation.\n",
            "  warnings.warn(\n"
          ]
        },
        {
          "output_type": "execute_result",
          "data": {
            "text/plain": [
              "<matplotlib.axes._subplots.AxesSubplot at 0x7f97c5ec7490>"
            ]
          },
          "metadata": {},
          "execution_count": 775
        },
        {
          "output_type": "display_data",
          "data": {
            "text/plain": [
              "<Figure size 432x288 with 1 Axes>"
            ],
            "image/png": "[encoded data removed]"
          },
          "metadata": {
            "needs_background": "light"
          }
        }
      ]
    },
    {
      "cell_type": "code",
      "source": [
        "sns.boxplot(loan_export[\"MonthsInRepayment\"])"
      ],
      "metadata": {
        "colab": {
          "base_uri": "https://localhost:8080/",
          "height": 353
        },
        "id": "W0NdZ0ed50Ji",
        "outputId": "7c9b996e-9595-4bd5-bd75-2fdd0ee25934"
      },
      "execution_count": 776,
      "outputs": [
        {
          "output_type": "stream",
          "name": "stderr",
          "text": [
            "/usr/local/lib/python3.8/dist-packages/seaborn/_decorators.py:36: FutureWarning: Pass the following variable as a keyword arg: x. From version 0.12, the only valid positional argument will be `data`, and passing other arguments without an explicit keyword will result in an error or misinterpretation.\n",
            "  warnings.warn(\n"
          ]
        },
        {
          "output_type": "execute_result",
          "data": {
            "text/plain": [
              "<matplotlib.axes._subplots.AxesSubplot at 0x7f97d18a09a0>"
            ]
          },
          "metadata": {},
          "execution_count": 776
        },
        {
          "output_type": "display_data",
          "data": {
            "text/plain": [
              "<Figure size 432x288 with 1 Axes>"
            ],
            "image/png": "[encoded data removed]"
          },
          "metadata": {
            "needs_background": "light"
          }
        }
      ]
    },
    {
      "cell_type": "markdown",
      "source": [
        "outliers are present in orginal unpaid balance,MIP,months in repayment so we have to remove them.\n"
      ],
      "metadata": {
        "id": "expamKb-BcM0"
      }
    },
    {
      "cell_type": "code",
      "source": [
        "def remove_outlier(col):\n",
        "  sorted(col)\n",
        "  Q1,Q3=col.quantile([0.25,0.75])\n",
        "  IQR=Q3-Q1\n",
        "  LOWER_RANGE=Q1-(1.5*IQR)\n",
        "  UPPER_RANGE=Q3+(1.5*IQR)\n",
        "  return LOWER_RANGE,UPPER_RANGE"
      ],
      "metadata": {
        "id": "mO4PerfCBb0w"
      },
      "execution_count": 777,
      "outputs": []
    },
    {
      "cell_type": "code",
      "source": [
        "LOWERITEMVISIBILITY,UPPERITEMVISIBILITY = remove_outlier(loan_export2[\"MonthsInRepayment\"])\n",
        "loan_export2[\"MonthsInRepayment\"] = np.where(loan_export2[\"MonthsInRepayment\"]>UPPERITEMVISIBILITY,UPPERITEMVISIBILITY,loan_export2[\"MonthsInRepayment\"])\n",
        "loan_export2[\"MonthsInRepayment\"] = np.where(loan_export2[\"MonthsInRepayment\"]<LOWERITEMVISIBILITY,LOWERITEMVISIBILITY,loan_export2[\"MonthsInRepayment\"])"
      ],
      "metadata": {
        "id": "rA0B1qDw5wmg"
      },
      "execution_count": 778,
      "outputs": []
    },
    {
      "cell_type": "code",
      "source": [
        "#check\n",
        "sns.boxplot(loan_export2[\"MonthsInRepayment\"])"
      ],
      "metadata": {
        "colab": {
          "base_uri": "https://localhost:8080/",
          "height": 353
        },
        "id": "_p6OlWvsCQW8",
        "outputId": "42db881c-dd33-4065-9990-6e4c98e0f9a0"
      },
      "execution_count": 779,
      "outputs": [
        {
          "output_type": "stream",
          "name": "stderr",
          "text": [
            "/usr/local/lib/python3.8/dist-packages/seaborn/_decorators.py:36: FutureWarning: Pass the following variable as a keyword arg: x. From version 0.12, the only valid positional argument will be `data`, and passing other arguments without an explicit keyword will result in an error or misinterpretation.\n",
            "  warnings.warn(\n"
          ]
        },
        {
          "output_type": "execute_result",
          "data": {
            "text/plain": [
              "<matplotlib.axes._subplots.AxesSubplot at 0x7f97c96a3100>"
            ]
          },
          "metadata": {},
          "execution_count": 779
        },
        {
          "output_type": "display_data",
          "data": {
            "text/plain": [
              "<Figure size 432x288 with 1 Axes>"
            ],
            "image/png": "[encoded data removed]"
          },
          "metadata": {
            "needs_background": "light"
          }
        }
      ]
    },
    {
      "cell_type": "code",
      "source": [
        "LOWERITEMVISIBILITY,UPPERITEMVISIBILITY = remove_outlier(loan_export2[\"MIP\"])\n",
        "loan_export2[\"MIP\"] = np.where(loan_export2[\"MIP\"]>UPPERITEMVISIBILITY,UPPERITEMVISIBILITY,loan_export2[\"MIP\"])\n",
        "loan_export2[\"MIP\"] = np.where(loan_export2[\"MIP\"]<LOWERITEMVISIBILITY,LOWERITEMVISIBILITY,loan_export2[\"MIP\"])"
      ],
      "metadata": {
        "id": "-yWMrz97Cmnv"
      },
      "execution_count": 780,
      "outputs": []
    },
    {
      "cell_type": "code",
      "source": [
        "LOWERITEMVISIBILITY,UPPERITEMVISIBILITY = remove_outlier(loan_export2[\"OrigUPB\"])\n",
        "loan_export2[\"OrigUPB\"] = np.where(loan_export2[\"OrigUPB\"]>UPPERITEMVISIBILITY,UPPERITEMVISIBILITY,loan_export2[\"OrigUPB\"])\n",
        "loan_export2[\"OrigUPB\"] = np.where(loan_export2[\"OrigUPB\"]<LOWERITEMVISIBILITY,LOWERITEMVISIBILITY,loan_export2[\"OrigUPB\"])"
      ],
      "metadata": {
        "id": "vuscHUjiDFf3"
      },
      "execution_count": 781,
      "outputs": []
    },
    {
      "cell_type": "code",
      "source": [
        "sns.boxplot(loan_export2[\"OrigUPB\"])"
      ],
      "metadata": {
        "colab": {
          "base_uri": "https://localhost:8080/",
          "height": 353
        },
        "id": "NdPbg0AsDXgW",
        "outputId": "f17ee1e8-5f43-4996-b1cc-39fad784453b"
      },
      "execution_count": 782,
      "outputs": [
        {
          "output_type": "stream",
          "name": "stderr",
          "text": [
            "/usr/local/lib/python3.8/dist-packages/seaborn/_decorators.py:36: FutureWarning: Pass the following variable as a keyword arg: x. From version 0.12, the only valid positional argument will be `data`, and passing other arguments without an explicit keyword will result in an error or misinterpretation.\n",
            "  warnings.warn(\n"
          ]
        },
        {
          "output_type": "execute_result",
          "data": {
            "text/plain": [
              "<matplotlib.axes._subplots.AxesSubplot at 0x7f97c5e346d0>"
            ]
          },
          "metadata": {},
          "execution_count": 782
        },
        {
          "output_type": "display_data",
          "data": {
            "text/plain": [
              "<Figure size 432x288 with 1 Axes>"
            ],
            "image/png": "[encoded data removed]"
          },
          "metadata": {
            "needs_background": "light"
          }
        }
      ]
    },
    {
      "cell_type": "code",
      "source": [
        "sns.boxplot(loan_export2[\"MIP\"])"
      ],
      "metadata": {
        "colab": {
          "base_uri": "https://localhost:8080/",
          "height": 353
        },
        "id": "eg8YHvpzDcrH",
        "outputId": "ae150887-348d-4f76-dee0-abc4af9b15e4"
      },
      "execution_count": 783,
      "outputs": [
        {
          "output_type": "stream",
          "name": "stderr",
          "text": [
            "/usr/local/lib/python3.8/dist-packages/seaborn/_decorators.py:36: FutureWarning: Pass the following variable as a keyword arg: x. From version 0.12, the only valid positional argument will be `data`, and passing other arguments without an explicit keyword will result in an error or misinterpretation.\n",
            "  warnings.warn(\n"
          ]
        },
        {
          "output_type": "execute_result",
          "data": {
            "text/plain": [
              "<matplotlib.axes._subplots.AxesSubplot at 0x7f97c56cccd0>"
            ]
          },
          "metadata": {},
          "execution_count": 783
        },
        {
          "output_type": "display_data",
          "data": {
            "text/plain": [
              "<Figure size 432x288 with 1 Axes>"
            ],
            "image/png": "[encoded data removed]"
          },
          "metadata": {
            "needs_background": "light"
          }
        }
      ]
    },
    {
      "cell_type": "code",
      "source": [
        "loan_export2.isnull().sum()"
      ],
      "metadata": {
        "colab": {
          "base_uri": "https://localhost:8080/"
        },
        "id": "mTSwyzlyDj0e",
        "outputId": "ade484db-baf6-4bf8-dac4-9b89964abe02"
      },
      "execution_count": 784,
      "outputs": [
        {
          "output_type": "execute_result",
          "data": {
            "text/plain": [
              "FirstTimeHomebuyer    0\n",
              "MIP                   0\n",
              "Units                 0\n",
              "Occupancy             0\n",
              "OrigUPB               0\n",
              "OrigInterestRate      0\n",
              "PPM                   0\n",
              "LoanPurpose           0\n",
              "OrigLoanTerm          0\n",
              "NumBorrowers          0\n",
              "EverDelinquent        0\n",
              "MonthsDelinquent      0\n",
              "MonthsInRepayment     0\n",
              "CreditScore_ranges    0\n",
              "ltv_ranges            0\n",
              "DTI_ranges            0\n",
              "dtype: int64"
            ]
          },
          "metadata": {},
          "execution_count": 784
        }
      ]
    },
    {
      "cell_type": "code",
      "source": [
        "loan_export2.count()\n"
      ],
      "metadata": {
        "colab": {
          "base_uri": "https://localhost:8080/"
        },
        "id": "DiIhibt6E6Ts",
        "outputId": "6d8f8363-0d97-4bcf-f7dd-175280a09ca6"
      },
      "execution_count": 785,
      "outputs": [
        {
          "output_type": "execute_result",
          "data": {
            "text/plain": [
              "FirstTimeHomebuyer    291451\n",
              "MIP                   291451\n",
              "Units                 291451\n",
              "Occupancy             291451\n",
              "OrigUPB               291451\n",
              "OrigInterestRate      291451\n",
              "PPM                   291451\n",
              "LoanPurpose           291451\n",
              "OrigLoanTerm          291451\n",
              "NumBorrowers          291451\n",
              "EverDelinquent        291451\n",
              "MonthsDelinquent      291451\n",
              "MonthsInRepayment     291451\n",
              "CreditScore_ranges    291451\n",
              "ltv_ranges            291451\n",
              "DTI_ranges            291451\n",
              "dtype: int64"
            ]
          },
          "metadata": {},
          "execution_count": 785
        }
      ]
    },
    {
      "cell_type": "code",
      "source": [
        "#encoding categorical into numerical variables\n"
      ],
      "metadata": {
        "id": "kpr2rpt2FEAO"
      },
      "execution_count": 786,
      "outputs": []
    },
    {
      "cell_type": "code",
      "source": [
        "loan_export2.dtypes"
      ],
      "metadata": {
        "colab": {
          "base_uri": "https://localhost:8080/"
        },
        "id": "be8hm0cRFLkn",
        "outputId": "2e1ad33d-f55c-4d7a-cde5-c5315b6d9d38"
      },
      "execution_count": 787,
      "outputs": [
        {
          "output_type": "execute_result",
          "data": {
            "text/plain": [
              "FirstTimeHomebuyer     object\n",
              "MIP                   float64\n",
              "Units                   int64\n",
              "Occupancy              object\n",
              "OrigUPB               float64\n",
              "OrigInterestRate      float64\n",
              "PPM                    object\n",
              "LoanPurpose            object\n",
              "OrigLoanTerm            int64\n",
              "NumBorrowers           object\n",
              "EverDelinquent          int64\n",
              "MonthsDelinquent        int64\n",
              "MonthsInRepayment     float64\n",
              "CreditScore_ranges     object\n",
              "ltv_ranges             object\n",
              "DTI_ranges             object\n",
              "dtype: object"
            ]
          },
          "metadata": {},
          "execution_count": 787
        }
      ]
    },
    {
      "cell_type": "code",
      "source": [
        "#Import library:\n",
        "from sklearn.preprocessing import LabelEncoder\n",
        "le = LabelEncoder()\n",
        "#New variable for outlet\n",
        "var_mod = ['CreditScore_ranges','ltv_ranges','NumBorrowers','DTI_ranges','LoanPurpose','PPM','Occupancy','FirstTimeHomebuyer']\n",
        "le = LabelEncoder()\n",
        "for i in var_mod:\n",
        "    loan_export2[i] = le.fit_transform(loan_export2[i])"
      ],
      "metadata": {
        "id": "QsK2QvmWFasf"
      },
      "execution_count": 788,
      "outputs": []
    },
    {
      "cell_type": "code",
      "source": [
        "#One Hot Coding:\n",
        "loan_export2 = pd.get_dummies(loan_export2, columns=['CreditScore_ranges','ltv_ranges','NumBorrowers','DTI_ranges','LoanPurpose','PPM','Occupancy','FirstTimeHomebuyer'])"
      ],
      "metadata": {
        "id": "qLEdZbGGGhjq"
      },
      "execution_count": 789,
      "outputs": []
    },
    {
      "cell_type": "code",
      "source": [
        "loan_export2.dtypes"
      ],
      "metadata": {
        "colab": {
          "base_uri": "https://localhost:8080/"
        },
        "id": "-t-d0rORG550",
        "outputId": "23f3b899-2c86-485e-ed74-c0c06678780f"
      },
      "execution_count": 790,
      "outputs": [
        {
          "output_type": "execute_result",
          "data": {
            "text/plain": [
              "MIP                     float64\n",
              "Units                     int64\n",
              "OrigUPB                 float64\n",
              "OrigInterestRate        float64\n",
              "OrigLoanTerm              int64\n",
              "EverDelinquent            int64\n",
              "MonthsDelinquent          int64\n",
              "MonthsInRepayment       float64\n",
              "CreditScore_ranges_0      uint8\n",
              "CreditScore_ranges_1      uint8\n",
              "CreditScore_ranges_2      uint8\n",
              "CreditScore_ranges_3      uint8\n",
              "ltv_ranges_0              uint8\n",
              "ltv_ranges_1              uint8\n",
              "NumBorrowers_0            uint8\n",
              "NumBorrowers_1            uint8\n",
              "NumBorrowers_2            uint8\n",
              "DTI_ranges_0              uint8\n",
              "DTI_ranges_1              uint8\n",
              "DTI_ranges_2              uint8\n",
              "DTI_ranges_3              uint8\n",
              "LoanPurpose_0             uint8\n",
              "LoanPurpose_1             uint8\n",
              "LoanPurpose_2             uint8\n",
              "PPM_0                     uint8\n",
              "PPM_1                     uint8\n",
              "PPM_2                     uint8\n",
              "Occupancy_0               uint8\n",
              "Occupancy_1               uint8\n",
              "Occupancy_2               uint8\n",
              "FirstTimeHomebuyer_0      uint8\n",
              "FirstTimeHomebuyer_1      uint8\n",
              "dtype: object"
            ]
          },
          "metadata": {},
          "execution_count": 790
        }
      ]
    },
    {
      "cell_type": "code",
      "source": [
        "#Normalizing and Scaling( Numerical Variables)\n",
        "from sklearn.preprocessing import StandardScaler\n",
        "std_scale=StandardScaler()\n",
        "std_scale"
      ],
      "metadata": {
        "colab": {
          "base_uri": "https://localhost:8080/"
        },
        "id": "iHd00tcLHdPN",
        "outputId": "ad6b8950-a716-4ba5-e1c5-3c45a4066bb3"
      },
      "execution_count": 793,
      "outputs": [
        {
          "output_type": "execute_result",
          "data": {
            "text/plain": [
              "StandardScaler()"
            ]
          },
          "metadata": {},
          "execution_count": 793
        }
      ]
    },
    {
      "cell_type": "code",
      "source": [
        "#MIP                     float64\n",
        "Units                     int64\n",
        "OrigUPB                 float64\n",
        "OrigInterestRate        float64\n",
        "OrigLoanTerm              int64\n",
        "EverDelinquent            int64\n",
        "MonthsDelinquent          int64\n",
        "MonthsInRepayment "
      ],
      "metadata": {
        "id": "S6Wx1aIpHiwB"
      },
      "execution_count": null,
      "outputs": []
    },
    {
      "cell_type": "code",
      "source": [
        "loan_export2[\"Units\"]=std_scale.fit_transform(loan_export2[[\"Units\"]])"
      ],
      "metadata": {
        "id": "8N33LzBTHyqW"
      },
      "execution_count": 798,
      "outputs": []
    },
    {
      "cell_type": "code",
      "source": [
        "loan_export2[\"MIP\"]=std_scale.fit_transform(loan_export2[[\"MIP\"]])\n",
        "loan_export2[\"OrigUPB\"]=std_scale.fit_transform(loan_export2[[\"OrigUPB\"]])\n",
        "loan_export2[\"OrigInterestRate\"]=std_scale.fit_transform(loan_export2[[\"OrigInterestRate\"]])\n",
        "loan_export2[\"OrigLoanTerm\"]=std_scale.fit_transform(loan_export2[[\"OrigLoanTerm\"]])\n",
        "loan_export2[\"EverDelinquent\"]=std_scale.fit_transform(loan_export2[[\"EverDelinquent\"]])\n",
        "loan_export2[\"MonthsDelinquent\"]=std_scale.fit_transform(loan_export2[[\"MonthsDelinquent\"]])\n",
        "loan_export2[\"MonthsInRepayment\"]=std_scale.fit_transform(loan_export2[[\"MonthsInRepayment\"]])"
      ],
      "metadata": {
        "id": "VJ3JY7GQITNh"
      },
      "execution_count": 800,
      "outputs": []
    },
    {
      "cell_type": "code",
      "source": [
        "import matplotlib.pyplot as plt"
      ],
      "metadata": {
        "id": "EiQs5CyaJ_-I"
      },
      "execution_count": 807,
      "outputs": []
    },
    {
      "cell_type": "code",
      "source": [
        "plt.figure(figsize=(20,10))\n",
        "sns.heatmap(loan_export2.corr(),annot=True)"
      ],
      "metadata": {
        "colab": {
          "base_uri": "https://localhost:8080/",
          "height": 594
        },
        "id": "SNzM7qNQJXwa",
        "outputId": "e6474d27-182e-45fc-f2bb-b1aa46b15862"
      },
      "execution_count": 808,
      "outputs": [
        {
          "output_type": "execute_result",
          "data": {
            "text/plain": [
              "<matplotlib.axes._subplots.AxesSubplot at 0x7f97c7710e20>"
            ]
          },
          "metadata": {},
          "execution_count": 808
        },
        {
          "output_type": "display_data",
          "data": {
            "text/plain": [
              "<Figure size 1440x720 with 2 Axes>"
            ],
            "image/png": "[encoded data removed]"
          },
          "metadata": {
            "needs_background": "light"
          }
        }
      ]
    }
  ]
}